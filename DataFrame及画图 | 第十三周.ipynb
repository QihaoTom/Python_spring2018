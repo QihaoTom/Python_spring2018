{
 "cells": [
  {
   "cell_type": "code",
   "execution_count": 1,
   "metadata": {},
   "outputs": [],
   "source": [
    "# Pandas Series（只有一列） DataFrame（重点）"
   ]
  },
  {
   "cell_type": "code",
   "execution_count": 2,
   "metadata": {},
   "outputs": [],
   "source": [
    "import pandas as pd"
   ]
  },
  {
   "cell_type": "code",
   "execution_count": 4,
   "metadata": {},
   "outputs": [
    {
     "data": {
      "text/plain": [
       "0    1\n",
       "1    2\n",
       "2    a\n",
       "dtype: object"
      ]
     },
     "execution_count": 4,
     "metadata": {},
     "output_type": "execute_result"
    }
   ],
   "source": [
    "aSer=pd.Series([1,2.0,'a']) # 通过Series（）函数，会有索引值（数据表）\n",
    "aSer"
   ]
  },
  {
   "cell_type": "code",
   "execution_count": 7,
   "metadata": {},
   "outputs": [
    {
     "data": {
      "text/plain": [
       "1    apple\n",
       "2    peach\n",
       "3    lemon\n",
       "dtype: object"
      ]
     },
     "execution_count": 7,
     "metadata": {},
     "output_type": "execute_result"
    }
   ],
   "source": [
    "bSer=pd.Series(['apple','peach','lemon'],index=[1,2,3]) # Series的index，相当于字典里的Key\n",
    "bSer"
   ]
  },
  {
   "cell_type": "code",
   "execution_count": 8,
   "metadata": {},
   "outputs": [
    {
     "data": {
      "text/plain": [
       "Int64Index([1, 2, 3], dtype='int64')"
      ]
     },
     "execution_count": 8,
     "metadata": {},
     "output_type": "execute_result"
    }
   ],
   "source": [
    "bSer.index"
   ]
  },
  {
   "cell_type": "code",
   "execution_count": 9,
   "metadata": {},
   "outputs": [
    {
     "data": {
      "text/plain": [
       "array(['apple', 'peach', 'lemon'], dtype=object)"
      ]
     },
     "execution_count": 9,
     "metadata": {},
     "output_type": "execute_result"
    }
   ],
   "source": [
    "bSer.values"
   ]
  },
  {
   "cell_type": "code",
   "execution_count": 10,
   "metadata": {},
   "outputs": [
    {
     "data": {
      "text/plain": [
       "5"
      ]
     },
     "execution_count": 10,
     "metadata": {},
     "output_type": "execute_result"
    }
   ],
   "source": [
    "cSer=pd.Series([3,5,7],index=['a','b','c'])\n",
    "cSer['b']"
   ]
  },
  {
   "cell_type": "code",
   "execution_count": 11,
   "metadata": {},
   "outputs": [],
   "source": [
    "import numpy as np"
   ]
  },
  {
   "cell_type": "code",
   "execution_count": 12,
   "metadata": {},
   "outputs": [
    {
     "data": {
      "text/plain": [
       "a      20.085537\n",
       "b     148.413159\n",
       "c    1096.633158\n",
       "dtype: float64"
      ]
     },
     "execution_count": 12,
     "metadata": {},
     "output_type": "execute_result"
    }
   ],
   "source": [
    "np.exp(cSer)"
   ]
  },
  {
   "cell_type": "code",
   "execution_count": 13,
   "metadata": {},
   "outputs": [
    {
     "data": {
      "text/plain": [
       "b    5\n",
       "dtype: int64"
      ]
     },
     "execution_count": 13,
     "metadata": {},
     "output_type": "execute_result"
    }
   ],
   "source": [
    "cSer[1:2]"
   ]
  },
  {
   "cell_type": "code",
   "execution_count": 14,
   "metadata": {},
   "outputs": [
    {
     "data": {
      "text/plain": [
       "a    3\n",
       "b    5\n",
       "dtype: int64"
      ]
     },
     "execution_count": 14,
     "metadata": {},
     "output_type": "execute_result"
    }
   ],
   "source": [
    "cSer['a':'b'] # 基于索引的切片"
   ]
  },
  {
   "cell_type": "code",
   "execution_count": 16,
   "metadata": {},
   "outputs": [
    {
     "data": {
      "text/plain": [
       "AXP      86.40\n",
       "CSCO    122.64\n",
       "BA       99.44\n",
       "AAPL       NaN\n",
       "dtype: object"
      ]
     },
     "execution_count": 16,
     "metadata": {},
     "output_type": "execute_result"
    }
   ],
   "source": [
    "data={'AXP':'86.40','CSCO':'122.64','BA':'99.44'}\n",
    "sindex=['AXP','CSCO','BA','AAPL']\n",
    "aSer=pd.Series(data,index=sindex)\n",
    "aSer"
   ]
  },
  {
   "cell_type": "code",
   "execution_count": 17,
   "metadata": {},
   "outputs": [
    {
     "data": {
      "text/plain": [
       "AXP     False\n",
       "CSCO    False\n",
       "BA      False\n",
       "AAPL     True\n",
       "dtype: bool"
      ]
     },
     "execution_count": 17,
     "metadata": {},
     "output_type": "execute_result"
    }
   ],
   "source": [
    "pd.isnull(aSer)"
   ]
  },
  {
   "cell_type": "code",
   "execution_count": 18,
   "metadata": {},
   "outputs": [
    {
     "data": {
      "text/plain": [
       "AAPL             NaN\n",
       "AXP       86.4086.40\n",
       "BA               NaN\n",
       "CSCO    122.64122.64\n",
       "CVX              NaN\n",
       "dtype: object"
      ]
     },
     "execution_count": 18,
     "metadata": {},
     "output_type": "execute_result"
    }
   ],
   "source": [
    "bSer={'AXP':'86.40','CSCO':'122.64','CVX':'23.78'}\n",
    "cSer=pd.Series(bSer)\n",
    "aSer+cSer # 共同有的，才对齐（哪些是都存在的）"
   ]
  },
  {
   "cell_type": "code",
   "execution_count": null,
   "metadata": {},
   "outputs": [],
   "source": [
    "# DataFrame（相当于excel）"
   ]
  },
  {
   "cell_type": "code",
   "execution_count": 19,
   "metadata": {},
   "outputs": [
    {
     "data": {
      "text/html": [
       "<div>\n",
       "<style>\n",
       "    .dataframe thead tr:only-child th {\n",
       "        text-align: right;\n",
       "    }\n",
       "\n",
       "    .dataframe thead th {\n",
       "        text-align: left;\n",
       "    }\n",
       "\n",
       "    .dataframe tbody tr th {\n",
       "        vertical-align: top;\n",
       "    }\n",
       "</style>\n",
       "<table border=\"1\" class=\"dataframe\">\n",
       "  <thead>\n",
       "    <tr style=\"text-align: right;\">\n",
       "      <th></th>\n",
       "      <th>name</th>\n",
       "      <th>pay</th>\n",
       "    </tr>\n",
       "  </thead>\n",
       "  <tbody>\n",
       "    <tr>\n",
       "      <th>0</th>\n",
       "      <td>Mayue</td>\n",
       "      <td>3000</td>\n",
       "    </tr>\n",
       "    <tr>\n",
       "      <th>1</th>\n",
       "      <td>Lilin</td>\n",
       "      <td>4500</td>\n",
       "    </tr>\n",
       "    <tr>\n",
       "      <th>2</th>\n",
       "      <td>Wuyun</td>\n",
       "      <td>8000</td>\n",
       "    </tr>\n",
       "  </tbody>\n",
       "</table>\n",
       "</div>"
      ],
      "text/plain": [
       "    name   pay\n",
       "0  Mayue  3000\n",
       "1  Lilin  4500\n",
       "2  Wuyun  8000"
      ]
     },
     "execution_count": 19,
     "metadata": {},
     "output_type": "execute_result"
    }
   ],
   "source": [
    "data={'name':['Mayue','Lilin','Wuyun'],'pay':[3000,4500,8000]} # 创建方式一\n",
    "aDF=pd.DataFrame(data)\n",
    "aDF"
   ]
  },
  {
   "cell_type": "code",
   "execution_count": 21,
   "metadata": {},
   "outputs": [
    {
     "data": {
      "text/html": [
       "<div>\n",
       "<style>\n",
       "    .dataframe thead tr:only-child th {\n",
       "        text-align: right;\n",
       "    }\n",
       "\n",
       "    .dataframe thead th {\n",
       "        text-align: left;\n",
       "    }\n",
       "\n",
       "    .dataframe tbody tr th {\n",
       "        vertical-align: top;\n",
       "    }\n",
       "</style>\n",
       "<table border=\"1\" class=\"dataframe\">\n",
       "  <thead>\n",
       "    <tr style=\"text-align: right;\">\n",
       "      <th></th>\n",
       "      <th>name</th>\n",
       "      <th>pay</th>\n",
       "    </tr>\n",
       "  </thead>\n",
       "  <tbody>\n",
       "    <tr>\n",
       "      <th>1</th>\n",
       "      <td>Mayue</td>\n",
       "      <td>3000</td>\n",
       "    </tr>\n",
       "    <tr>\n",
       "      <th>2</th>\n",
       "      <td>Lilin</td>\n",
       "      <td>4500</td>\n",
       "    </tr>\n",
       "    <tr>\n",
       "      <th>3</th>\n",
       "      <td>Wuyun</td>\n",
       "      <td>8000</td>\n",
       "    </tr>\n",
       "  </tbody>\n",
       "</table>\n",
       "</div>"
      ],
      "text/plain": [
       "    name   pay\n",
       "1  Mayue  3000\n",
       "2  Lilin  4500\n",
       "3  Wuyun  8000"
      ]
     },
     "execution_count": 21,
     "metadata": {},
     "output_type": "execute_result"
    }
   ],
   "source": [
    "data=np.array([('Mayue',3000),('Lilin',4500),('Wuyun',8000)])\n",
    "bDF=pd.DataFrame(data,index=range(1,4),columns=['name','pay'])  # 索引就可以从1开始，命名字段名\n",
    "bDF"
   ]
  },
  {
   "cell_type": "code",
   "execution_count": 22,
   "metadata": {},
   "outputs": [
    {
     "data": {
      "text/plain": [
       "RangeIndex(start=1, stop=4, step=1)"
      ]
     },
     "execution_count": 22,
     "metadata": {},
     "output_type": "execute_result"
    }
   ],
   "source": [
    "bDF.index"
   ]
  },
  {
   "cell_type": "code",
   "execution_count": 23,
   "metadata": {},
   "outputs": [
    {
     "data": {
      "text/plain": [
       "Index(['name', 'pay'], dtype='object')"
      ]
     },
     "execution_count": 23,
     "metadata": {},
     "output_type": "execute_result"
    }
   ],
   "source": [
    "bDF.columns"
   ]
  },
  {
   "cell_type": "code",
   "execution_count": 24,
   "metadata": {},
   "outputs": [
    {
     "data": {
      "text/plain": [
       "array([['Mayue', '3000'],\n",
       "       ['Lilin', '4500'],\n",
       "       ['Wuyun', '8000']], dtype=object)"
      ]
     },
     "execution_count": 24,
     "metadata": {},
     "output_type": "execute_result"
    }
   ],
   "source": [
    "bDF.values"
   ]
  },
  {
   "cell_type": "code",
   "execution_count": 25,
   "metadata": {},
   "outputs": [
    {
     "data": {
      "text/plain": [
       "array([['Mayue', '3000'],\n",
       "       ['Lilin', '4500'],\n",
       "       ['Wuyun', '8000']],\n",
       "      dtype='<U5')"
      ]
     },
     "execution_count": 25,
     "metadata": {},
     "output_type": "execute_result"
    }
   ],
   "source": [
    "data"
   ]
  },
  {
   "cell_type": "code",
   "execution_count": 27,
   "metadata": {},
   "outputs": [
    {
     "data": {
      "text/html": [
       "<div>\n",
       "<style>\n",
       "    .dataframe thead tr:only-child th {\n",
       "        text-align: right;\n",
       "    }\n",
       "\n",
       "    .dataframe thead th {\n",
       "        text-align: left;\n",
       "    }\n",
       "\n",
       "    .dataframe tbody tr th {\n",
       "        vertical-align: top;\n",
       "    }\n",
       "</style>\n",
       "<table border=\"1\" class=\"dataframe\">\n",
       "  <thead>\n",
       "    <tr style=\"text-align: right;\">\n",
       "      <th></th>\n",
       "      <th>name</th>\n",
       "      <th>pay</th>\n",
       "      <th>tax</th>\n",
       "    </tr>\n",
       "  </thead>\n",
       "  <tbody>\n",
       "    <tr>\n",
       "      <th>0</th>\n",
       "      <td>Mayue</td>\n",
       "      <td>3000</td>\n",
       "      <td>0.05</td>\n",
       "    </tr>\n",
       "    <tr>\n",
       "      <th>1</th>\n",
       "      <td>Lilin</td>\n",
       "      <td>4500</td>\n",
       "      <td>0.05</td>\n",
       "    </tr>\n",
       "    <tr>\n",
       "      <th>2</th>\n",
       "      <td>Wuyun</td>\n",
       "      <td>8000</td>\n",
       "      <td>0.10</td>\n",
       "    </tr>\n",
       "  </tbody>\n",
       "</table>\n",
       "</div>"
      ],
      "text/plain": [
       "    name   pay   tax\n",
       "0  Mayue  3000  0.05\n",
       "1  Lilin  4500  0.05\n",
       "2  Wuyun  8000  0.10"
      ]
     },
     "execution_count": 27,
     "metadata": {},
     "output_type": "execute_result"
    }
   ],
   "source": [
    "aDF['tax']=[0.05,0.05,0.1] # 对key的索引是列！！用[]方括号的方式，进行赋值和索引，添加列\n",
    "aDF"
   ]
  },
  {
   "cell_type": "code",
   "execution_count": 28,
   "metadata": {},
   "outputs": [
    {
     "data": {
      "text/html": [
       "<div>\n",
       "<style>\n",
       "    .dataframe thead tr:only-child th {\n",
       "        text-align: right;\n",
       "    }\n",
       "\n",
       "    .dataframe thead th {\n",
       "        text-align: left;\n",
       "    }\n",
       "\n",
       "    .dataframe tbody tr th {\n",
       "        vertical-align: top;\n",
       "    }\n",
       "</style>\n",
       "<table border=\"1\" class=\"dataframe\">\n",
       "  <thead>\n",
       "    <tr style=\"text-align: right;\">\n",
       "      <th></th>\n",
       "      <th>name</th>\n",
       "      <th>pay</th>\n",
       "      <th>tax</th>\n",
       "    </tr>\n",
       "  </thead>\n",
       "  <tbody>\n",
       "    <tr>\n",
       "      <th>0</th>\n",
       "      <td>Mayue</td>\n",
       "      <td>3000</td>\n",
       "      <td>0.05</td>\n",
       "    </tr>\n",
       "    <tr>\n",
       "      <th>1</th>\n",
       "      <td>Lilin</td>\n",
       "      <td>4500</td>\n",
       "      <td>0.05</td>\n",
       "    </tr>\n",
       "    <tr>\n",
       "      <th>2</th>\n",
       "      <td>Wuyun</td>\n",
       "      <td>8000</td>\n",
       "      <td>0.10</td>\n",
       "    </tr>\n",
       "    <tr>\n",
       "      <th>5</th>\n",
       "      <td>Liuxi</td>\n",
       "      <td>5000</td>\n",
       "      <td>0.02</td>\n",
       "    </tr>\n",
       "  </tbody>\n",
       "</table>\n",
       "</div>"
      ],
      "text/plain": [
       "    name   pay   tax\n",
       "0  Mayue  3000  0.05\n",
       "1  Lilin  4500  0.05\n",
       "2  Wuyun  8000  0.10\n",
       "5  Liuxi  5000  0.02"
      ]
     },
     "execution_count": 28,
     "metadata": {},
     "output_type": "execute_result"
    }
   ],
   "source": [
    "aDF.loc[5]={'name':'Liuxi','pay':5000,'tax':0.02}  # 添加行的方法，加入loc\n",
    "aDF"
   ]
  },
  {
   "cell_type": "code",
   "execution_count": null,
   "metadata": {},
   "outputs": [],
   "source": [
    "tempDF=np"
   ]
  },
  {
   "cell_type": "code",
   "execution_count": 29,
   "metadata": {},
   "outputs": [
    {
     "ename": "NameError",
     "evalue": "name 'tempDF' is not defined",
     "output_type": "error",
     "traceback": [
      "\u001b[0;31m---------------------------------------------------------------------------\u001b[0m",
      "\u001b[0;31mNameError\u001b[0m                                 Traceback (most recent call last)",
      "\u001b[0;32m<ipython-input-29-25aa2ca6db52>\u001b[0m in \u001b[0;36m<module>\u001b[0;34m()\u001b[0m\n\u001b[0;32m----> 1\u001b[0;31m \u001b[0maDF\u001b[0m\u001b[0;34m.\u001b[0m\u001b[0mappend\u001b[0m\u001b[0;34m(\u001b[0m\u001b[0mtempDF\u001b[0m\u001b[0;34m)\u001b[0m\u001b[0;34m\u001b[0m\u001b[0m\n\u001b[0m",
      "\u001b[0;31mNameError\u001b[0m: name 'tempDF' is not defined"
     ]
    }
   ],
   "source": [
    "aDF.append(tempDF)"
   ]
  },
  {
   "cell_type": "code",
   "execution_count": null,
   "metadata": {},
   "outputs": [],
   "source": [
    "pieces=[aDF,tempDF]"
   ]
  },
  {
   "cell_type": "code",
   "execution_count": 30,
   "metadata": {},
   "outputs": [
    {
     "ename": "NameError",
     "evalue": "name 'pieces' is not defined",
     "output_type": "error",
     "traceback": [
      "\u001b[0;31m---------------------------------------------------------------------------\u001b[0m",
      "\u001b[0;31mNameError\u001b[0m                                 Traceback (most recent call last)",
      "\u001b[0;32m<ipython-input-30-75a9dd1f7d51>\u001b[0m in \u001b[0;36m<module>\u001b[0;34m()\u001b[0m\n\u001b[0;32m----> 1\u001b[0;31m \u001b[0mpd\u001b[0m\u001b[0;34m.\u001b[0m\u001b[0mconcat\u001b[0m\u001b[0;34m(\u001b[0m\u001b[0mpieces\u001b[0m\u001b[0;34m)\u001b[0m \u001b[0;31m# 和append一样实现合并\u001b[0m\u001b[0;34m\u001b[0m\u001b[0m\n\u001b[0m",
      "\u001b[0;31mNameError\u001b[0m: name 'pieces' is not defined"
     ]
    }
   ],
   "source": [
    "pd.concat(pieces) # 和append一样实现合并"
   ]
  },
  {
   "cell_type": "code",
   "execution_count": 31,
   "metadata": {},
   "outputs": [
    {
     "data": {
      "text/html": [
       "<div>\n",
       "<style>\n",
       "    .dataframe thead tr:only-child th {\n",
       "        text-align: right;\n",
       "    }\n",
       "\n",
       "    .dataframe thead th {\n",
       "        text-align: left;\n",
       "    }\n",
       "\n",
       "    .dataframe tbody tr th {\n",
       "        vertical-align: top;\n",
       "    }\n",
       "</style>\n",
       "<table border=\"1\" class=\"dataframe\">\n",
       "  <thead>\n",
       "    <tr style=\"text-align: right;\">\n",
       "      <th></th>\n",
       "      <th>name</th>\n",
       "      <th>pay</th>\n",
       "      <th>tax</th>\n",
       "    </tr>\n",
       "  </thead>\n",
       "  <tbody>\n",
       "    <tr>\n",
       "      <th>0</th>\n",
       "      <td>Mayue</td>\n",
       "      <td>3000</td>\n",
       "      <td>0.05</td>\n",
       "    </tr>\n",
       "    <tr>\n",
       "      <th>1</th>\n",
       "      <td>Lilin</td>\n",
       "      <td>4500</td>\n",
       "      <td>0.05</td>\n",
       "    </tr>\n",
       "    <tr>\n",
       "      <th>2</th>\n",
       "      <td>Wuyun</td>\n",
       "      <td>8000</td>\n",
       "      <td>0.10</td>\n",
       "    </tr>\n",
       "  </tbody>\n",
       "</table>\n",
       "</div>"
      ],
      "text/plain": [
       "    name   pay   tax\n",
       "0  Mayue  3000  0.05\n",
       "1  Lilin  4500  0.05\n",
       "2  Wuyun  8000  0.10"
      ]
     },
     "execution_count": 31,
     "metadata": {},
     "output_type": "execute_result"
    }
   ],
   "source": [
    "aDF.drop(5)"
   ]
  },
  {
   "cell_type": "code",
   "execution_count": 32,
   "metadata": {},
   "outputs": [
    {
     "data": {
      "text/html": [
       "<div>\n",
       "<style>\n",
       "    .dataframe thead tr:only-child th {\n",
       "        text-align: right;\n",
       "    }\n",
       "\n",
       "    .dataframe thead th {\n",
       "        text-align: left;\n",
       "    }\n",
       "\n",
       "    .dataframe tbody tr th {\n",
       "        vertical-align: top;\n",
       "    }\n",
       "</style>\n",
       "<table border=\"1\" class=\"dataframe\">\n",
       "  <thead>\n",
       "    <tr style=\"text-align: right;\">\n",
       "      <th></th>\n",
       "      <th>name</th>\n",
       "      <th>pay</th>\n",
       "    </tr>\n",
       "  </thead>\n",
       "  <tbody>\n",
       "    <tr>\n",
       "      <th>0</th>\n",
       "      <td>Mayue</td>\n",
       "      <td>3000</td>\n",
       "    </tr>\n",
       "    <tr>\n",
       "      <th>1</th>\n",
       "      <td>Lilin</td>\n",
       "      <td>4500</td>\n",
       "    </tr>\n",
       "    <tr>\n",
       "      <th>2</th>\n",
       "      <td>Wuyun</td>\n",
       "      <td>8000</td>\n",
       "    </tr>\n",
       "    <tr>\n",
       "      <th>5</th>\n",
       "      <td>Liuxi</td>\n",
       "      <td>5000</td>\n",
       "    </tr>\n",
       "  </tbody>\n",
       "</table>\n",
       "</div>"
      ],
      "text/plain": [
       "    name   pay\n",
       "0  Mayue  3000\n",
       "1  Lilin  4500\n",
       "2  Wuyun  8000\n",
       "5  Liuxi  5000"
      ]
     },
     "execution_count": 32,
     "metadata": {},
     "output_type": "execute_result"
    }
   ],
   "source": [
    "aDF.drop('tax',axis=1) # axis=1是按列"
   ]
  },
  {
   "cell_type": "code",
   "execution_count": 34,
   "metadata": {},
   "outputs": [
    {
     "data": {
      "text/html": [
       "<div>\n",
       "<style>\n",
       "    .dataframe thead tr:only-child th {\n",
       "        text-align: right;\n",
       "    }\n",
       "\n",
       "    .dataframe thead th {\n",
       "        text-align: left;\n",
       "    }\n",
       "\n",
       "    .dataframe tbody tr th {\n",
       "        vertical-align: top;\n",
       "    }\n",
       "</style>\n",
       "<table border=\"1\" class=\"dataframe\">\n",
       "  <thead>\n",
       "    <tr style=\"text-align: right;\">\n",
       "      <th></th>\n",
       "      <th>name</th>\n",
       "      <th>pay</th>\n",
       "      <th>tax</th>\n",
       "    </tr>\n",
       "  </thead>\n",
       "  <tbody>\n",
       "    <tr>\n",
       "      <th>0</th>\n",
       "      <td>Mayue</td>\n",
       "      <td>3000</td>\n",
       "      <td>0.03</td>\n",
       "    </tr>\n",
       "    <tr>\n",
       "      <th>1</th>\n",
       "      <td>Lilin</td>\n",
       "      <td>4500</td>\n",
       "      <td>0.03</td>\n",
       "    </tr>\n",
       "    <tr>\n",
       "      <th>2</th>\n",
       "      <td>Wuyun</td>\n",
       "      <td>8000</td>\n",
       "      <td>0.03</td>\n",
       "    </tr>\n",
       "    <tr>\n",
       "      <th>5</th>\n",
       "      <td>Liuxi</td>\n",
       "      <td>5000</td>\n",
       "      <td>0.03</td>\n",
       "    </tr>\n",
       "  </tbody>\n",
       "</table>\n",
       "</div>"
      ],
      "text/plain": [
       "    name   pay   tax\n",
       "0  Mayue  3000  0.03\n",
       "1  Lilin  4500  0.03\n",
       "2  Wuyun  8000  0.03\n",
       "5  Liuxi  5000  0.03"
      ]
     },
     "execution_count": 34,
     "metadata": {},
     "output_type": "execute_result"
    }
   ],
   "source": [
    "aDF['tax']=0.03\n",
    "aDF"
   ]
  },
  {
   "cell_type": "code",
   "execution_count": 36,
   "metadata": {},
   "outputs": [
    {
     "data": {
      "text/html": [
       "<div>\n",
       "<style>\n",
       "    .dataframe thead tr:only-child th {\n",
       "        text-align: right;\n",
       "    }\n",
       "\n",
       "    .dataframe thead th {\n",
       "        text-align: left;\n",
       "    }\n",
       "\n",
       "    .dataframe tbody tr th {\n",
       "        vertical-align: top;\n",
       "    }\n",
       "</style>\n",
       "<table border=\"1\" class=\"dataframe\">\n",
       "  <thead>\n",
       "    <tr style=\"text-align: right;\">\n",
       "      <th></th>\n",
       "      <th>name</th>\n",
       "      <th>pay</th>\n",
       "      <th>tax</th>\n",
       "    </tr>\n",
       "  </thead>\n",
       "  <tbody>\n",
       "    <tr>\n",
       "      <th>0</th>\n",
       "      <td>Mayue</td>\n",
       "      <td>3000</td>\n",
       "      <td>0.03</td>\n",
       "    </tr>\n",
       "    <tr>\n",
       "      <th>1</th>\n",
       "      <td>Lilin</td>\n",
       "      <td>4500</td>\n",
       "      <td>0.03</td>\n",
       "    </tr>\n",
       "    <tr>\n",
       "      <th>2</th>\n",
       "      <td>Wuyun</td>\n",
       "      <td>8000</td>\n",
       "      <td>0.03</td>\n",
       "    </tr>\n",
       "    <tr>\n",
       "      <th>5</th>\n",
       "      <td>Liuxi</td>\n",
       "      <td>9800</td>\n",
       "      <td>0.05</td>\n",
       "    </tr>\n",
       "  </tbody>\n",
       "</table>\n",
       "</div>"
      ],
      "text/plain": [
       "    name   pay   tax\n",
       "0  Mayue  3000  0.03\n",
       "1  Lilin  4500  0.03\n",
       "2  Wuyun  8000  0.03\n",
       "5  Liuxi  9800  0.05"
      ]
     },
     "execution_count": 36,
     "metadata": {},
     "output_type": "execute_result"
    }
   ],
   "source": [
    "aDF.loc[5]=['Liuxi',9800,0.05]  # 修改DataFrame\n",
    "aDF"
   ]
  },
  {
   "cell_type": "code",
   "execution_count": 37,
   "metadata": {},
   "outputs": [
    {
     "ename": "FileNotFoundError",
     "evalue": "File b'score.csv' does not exist",
     "output_type": "error",
     "traceback": [
      "\u001b[0;31m---------------------------------------------------------------------------\u001b[0m",
      "\u001b[0;31mFileNotFoundError\u001b[0m                         Traceback (most recent call last)",
      "\u001b[0;32m<ipython-input-37-602cb188f4b8>\u001b[0m in \u001b[0;36m<module>\u001b[0;34m()\u001b[0m\n\u001b[1;32m      1\u001b[0m \u001b[0;32mimport\u001b[0m \u001b[0mpandas\u001b[0m \u001b[0;32mas\u001b[0m \u001b[0mpd\u001b[0m\u001b[0;34m\u001b[0m\u001b[0m\n\u001b[0;32m----> 2\u001b[0;31m \u001b[0mdata\u001b[0m\u001b[0;34m=\u001b[0m\u001b[0mpd\u001b[0m\u001b[0;34m.\u001b[0m\u001b[0mread_csv\u001b[0m\u001b[0;34m(\u001b[0m\u001b[0;34m'score.csv'\u001b[0m\u001b[0;34m,\u001b[0m\u001b[0mencoding\u001b[0m\u001b[0;34m=\u001b[0m\u001b[0;34m'gb2312'\u001b[0m\u001b[0;34m)\u001b[0m\u001b[0;34m\u001b[0m\u001b[0m\n\u001b[0m\u001b[1;32m      3\u001b[0m \u001b[0mdata\u001b[0m\u001b[0;34m\u001b[0m\u001b[0m\n",
      "\u001b[0;32m~/anaconda3/lib/python3.6/site-packages/pandas/io/parsers.py\u001b[0m in \u001b[0;36mparser_f\u001b[0;34m(filepath_or_buffer, sep, delimiter, header, names, index_col, usecols, squeeze, prefix, mangle_dupe_cols, dtype, engine, converters, true_values, false_values, skipinitialspace, skiprows, nrows, na_values, keep_default_na, na_filter, verbose, skip_blank_lines, parse_dates, infer_datetime_format, keep_date_col, date_parser, dayfirst, iterator, chunksize, compression, thousands, decimal, lineterminator, quotechar, quoting, escapechar, comment, encoding, dialect, tupleize_cols, error_bad_lines, warn_bad_lines, skipfooter, skip_footer, doublequote, delim_whitespace, as_recarray, compact_ints, use_unsigned, low_memory, buffer_lines, memory_map, float_precision)\u001b[0m\n\u001b[1;32m    653\u001b[0m                     skip_blank_lines=skip_blank_lines)\n\u001b[1;32m    654\u001b[0m \u001b[0;34m\u001b[0m\u001b[0m\n\u001b[0;32m--> 655\u001b[0;31m         \u001b[0;32mreturn\u001b[0m \u001b[0m_read\u001b[0m\u001b[0;34m(\u001b[0m\u001b[0mfilepath_or_buffer\u001b[0m\u001b[0;34m,\u001b[0m \u001b[0mkwds\u001b[0m\u001b[0;34m)\u001b[0m\u001b[0;34m\u001b[0m\u001b[0m\n\u001b[0m\u001b[1;32m    656\u001b[0m \u001b[0;34m\u001b[0m\u001b[0m\n\u001b[1;32m    657\u001b[0m     \u001b[0mparser_f\u001b[0m\u001b[0;34m.\u001b[0m\u001b[0m__name__\u001b[0m \u001b[0;34m=\u001b[0m \u001b[0mname\u001b[0m\u001b[0;34m\u001b[0m\u001b[0m\n",
      "\u001b[0;32m~/anaconda3/lib/python3.6/site-packages/pandas/io/parsers.py\u001b[0m in \u001b[0;36m_read\u001b[0;34m(filepath_or_buffer, kwds)\u001b[0m\n\u001b[1;32m    403\u001b[0m \u001b[0;34m\u001b[0m\u001b[0m\n\u001b[1;32m    404\u001b[0m     \u001b[0;31m# Create the parser.\u001b[0m\u001b[0;34m\u001b[0m\u001b[0;34m\u001b[0m\u001b[0m\n\u001b[0;32m--> 405\u001b[0;31m     \u001b[0mparser\u001b[0m \u001b[0;34m=\u001b[0m \u001b[0mTextFileReader\u001b[0m\u001b[0;34m(\u001b[0m\u001b[0mfilepath_or_buffer\u001b[0m\u001b[0;34m,\u001b[0m \u001b[0;34m**\u001b[0m\u001b[0mkwds\u001b[0m\u001b[0;34m)\u001b[0m\u001b[0;34m\u001b[0m\u001b[0m\n\u001b[0m\u001b[1;32m    406\u001b[0m \u001b[0;34m\u001b[0m\u001b[0m\n\u001b[1;32m    407\u001b[0m     \u001b[0;32mif\u001b[0m \u001b[0mchunksize\u001b[0m \u001b[0;32mor\u001b[0m \u001b[0miterator\u001b[0m\u001b[0;34m:\u001b[0m\u001b[0;34m\u001b[0m\u001b[0m\n",
      "\u001b[0;32m~/anaconda3/lib/python3.6/site-packages/pandas/io/parsers.py\u001b[0m in \u001b[0;36m__init__\u001b[0;34m(self, f, engine, **kwds)\u001b[0m\n\u001b[1;32m    762\u001b[0m             \u001b[0mself\u001b[0m\u001b[0;34m.\u001b[0m\u001b[0moptions\u001b[0m\u001b[0;34m[\u001b[0m\u001b[0;34m'has_index_names'\u001b[0m\u001b[0;34m]\u001b[0m \u001b[0;34m=\u001b[0m \u001b[0mkwds\u001b[0m\u001b[0;34m[\u001b[0m\u001b[0;34m'has_index_names'\u001b[0m\u001b[0;34m]\u001b[0m\u001b[0;34m\u001b[0m\u001b[0m\n\u001b[1;32m    763\u001b[0m \u001b[0;34m\u001b[0m\u001b[0m\n\u001b[0;32m--> 764\u001b[0;31m         \u001b[0mself\u001b[0m\u001b[0;34m.\u001b[0m\u001b[0m_make_engine\u001b[0m\u001b[0;34m(\u001b[0m\u001b[0mself\u001b[0m\u001b[0;34m.\u001b[0m\u001b[0mengine\u001b[0m\u001b[0;34m)\u001b[0m\u001b[0;34m\u001b[0m\u001b[0m\n\u001b[0m\u001b[1;32m    765\u001b[0m \u001b[0;34m\u001b[0m\u001b[0m\n\u001b[1;32m    766\u001b[0m     \u001b[0;32mdef\u001b[0m \u001b[0mclose\u001b[0m\u001b[0;34m(\u001b[0m\u001b[0mself\u001b[0m\u001b[0;34m)\u001b[0m\u001b[0;34m:\u001b[0m\u001b[0;34m\u001b[0m\u001b[0m\n",
      "\u001b[0;32m~/anaconda3/lib/python3.6/site-packages/pandas/io/parsers.py\u001b[0m in \u001b[0;36m_make_engine\u001b[0;34m(self, engine)\u001b[0m\n\u001b[1;32m    983\u001b[0m     \u001b[0;32mdef\u001b[0m \u001b[0m_make_engine\u001b[0m\u001b[0;34m(\u001b[0m\u001b[0mself\u001b[0m\u001b[0;34m,\u001b[0m \u001b[0mengine\u001b[0m\u001b[0;34m=\u001b[0m\u001b[0;34m'c'\u001b[0m\u001b[0;34m)\u001b[0m\u001b[0;34m:\u001b[0m\u001b[0;34m\u001b[0m\u001b[0m\n\u001b[1;32m    984\u001b[0m         \u001b[0;32mif\u001b[0m \u001b[0mengine\u001b[0m \u001b[0;34m==\u001b[0m \u001b[0;34m'c'\u001b[0m\u001b[0;34m:\u001b[0m\u001b[0;34m\u001b[0m\u001b[0m\n\u001b[0;32m--> 985\u001b[0;31m             \u001b[0mself\u001b[0m\u001b[0;34m.\u001b[0m\u001b[0m_engine\u001b[0m \u001b[0;34m=\u001b[0m \u001b[0mCParserWrapper\u001b[0m\u001b[0;34m(\u001b[0m\u001b[0mself\u001b[0m\u001b[0;34m.\u001b[0m\u001b[0mf\u001b[0m\u001b[0;34m,\u001b[0m \u001b[0;34m**\u001b[0m\u001b[0mself\u001b[0m\u001b[0;34m.\u001b[0m\u001b[0moptions\u001b[0m\u001b[0;34m)\u001b[0m\u001b[0;34m\u001b[0m\u001b[0m\n\u001b[0m\u001b[1;32m    986\u001b[0m         \u001b[0;32melse\u001b[0m\u001b[0;34m:\u001b[0m\u001b[0;34m\u001b[0m\u001b[0m\n\u001b[1;32m    987\u001b[0m             \u001b[0;32mif\u001b[0m \u001b[0mengine\u001b[0m \u001b[0;34m==\u001b[0m \u001b[0;34m'python'\u001b[0m\u001b[0;34m:\u001b[0m\u001b[0;34m\u001b[0m\u001b[0m\n",
      "\u001b[0;32m~/anaconda3/lib/python3.6/site-packages/pandas/io/parsers.py\u001b[0m in \u001b[0;36m__init__\u001b[0;34m(self, src, **kwds)\u001b[0m\n\u001b[1;32m   1603\u001b[0m         \u001b[0mkwds\u001b[0m\u001b[0;34m[\u001b[0m\u001b[0;34m'allow_leading_cols'\u001b[0m\u001b[0;34m]\u001b[0m \u001b[0;34m=\u001b[0m \u001b[0mself\u001b[0m\u001b[0;34m.\u001b[0m\u001b[0mindex_col\u001b[0m \u001b[0;32mis\u001b[0m \u001b[0;32mnot\u001b[0m \u001b[0;32mFalse\u001b[0m\u001b[0;34m\u001b[0m\u001b[0m\n\u001b[1;32m   1604\u001b[0m \u001b[0;34m\u001b[0m\u001b[0m\n\u001b[0;32m-> 1605\u001b[0;31m         \u001b[0mself\u001b[0m\u001b[0;34m.\u001b[0m\u001b[0m_reader\u001b[0m \u001b[0;34m=\u001b[0m \u001b[0mparsers\u001b[0m\u001b[0;34m.\u001b[0m\u001b[0mTextReader\u001b[0m\u001b[0;34m(\u001b[0m\u001b[0msrc\u001b[0m\u001b[0;34m,\u001b[0m \u001b[0;34m**\u001b[0m\u001b[0mkwds\u001b[0m\u001b[0;34m)\u001b[0m\u001b[0;34m\u001b[0m\u001b[0m\n\u001b[0m\u001b[1;32m   1606\u001b[0m \u001b[0;34m\u001b[0m\u001b[0m\n\u001b[1;32m   1607\u001b[0m         \u001b[0;31m# XXX\u001b[0m\u001b[0;34m\u001b[0m\u001b[0;34m\u001b[0m\u001b[0m\n",
      "\u001b[0;32mpandas/_libs/parsers.pyx\u001b[0m in \u001b[0;36mpandas._libs.parsers.TextReader.__cinit__ (pandas/_libs/parsers.c:4209)\u001b[0;34m()\u001b[0m\n",
      "\u001b[0;32mpandas/_libs/parsers.pyx\u001b[0m in \u001b[0;36mpandas._libs.parsers.TextReader._setup_parser_source (pandas/_libs/parsers.c:8873)\u001b[0;34m()\u001b[0m\n",
      "\u001b[0;31mFileNotFoundError\u001b[0m: File b'score.csv' does not exist"
     ]
    }
   ],
   "source": [
    "import pandas as pd\n",
    "data=pd.read_csv('score.csv',encoding='gb2312') # 读数据\n",
    "data"
   ]
  },
  {
   "cell_type": "code",
   "execution_count": 38,
   "metadata": {},
   "outputs": [
    {
     "ename": "AttributeError",
     "evalue": "module 'pandas' has no attribute 'DateFrame'",
     "output_type": "error",
     "traceback": [
      "\u001b[0;31m---------------------------------------------------------------------------\u001b[0m",
      "\u001b[0;31mAttributeError\u001b[0m                            Traceback (most recent call last)",
      "\u001b[0;32m<ipython-input-38-fb670b593183>\u001b[0m in \u001b[0;36m<module>\u001b[0;34m()\u001b[0m\n\u001b[0;32m----> 1\u001b[0;31m \u001b[0mdf\u001b[0m\u001b[0;34m=\u001b[0m\u001b[0mpd\u001b[0m\u001b[0;34m.\u001b[0m\u001b[0mDateFrame\u001b[0m\u001b[0;34m(\u001b[0m\u001b[0mdata\u001b[0m\u001b[0;34m)\u001b[0m\u001b[0;34m\u001b[0m\u001b[0m\n\u001b[0m\u001b[1;32m      2\u001b[0m \u001b[0mdf\u001b[0m\u001b[0;34m.\u001b[0m\u001b[0mto_csv\u001b[0m\u001b[0;34m(\u001b[0m\u001b[0;34m'score_copy.csv'\u001b[0m\u001b[0;34m)\u001b[0m \u001b[0;31m# 写到excel中\u001b[0m\u001b[0;34m\u001b[0m\u001b[0m\n",
      "\u001b[0;31mAttributeError\u001b[0m: module 'pandas' has no attribute 'DateFrame'"
     ]
    }
   ],
   "source": [
    "df=pd.DateFrame(data)\n",
    "df.to_csv('score_copy.csv') # 写到excel中"
   ]
  },
  {
   "cell_type": "code",
   "execution_count": 40,
   "metadata": {},
   "outputs": [
    {
     "ename": "FileNotFoundError",
     "evalue": "[Errno 2] No such file or directory: 'score.xlsx'",
     "output_type": "error",
     "traceback": [
      "\u001b[0;31m---------------------------------------------------------------------------\u001b[0m",
      "\u001b[0;31mFileNotFoundError\u001b[0m                         Traceback (most recent call last)",
      "\u001b[0;32m<ipython-input-40-f61cd960155a>\u001b[0m in \u001b[0;36m<module>\u001b[0;34m()\u001b[0m\n\u001b[0;32m----> 1\u001b[0;31m \u001b[0mdata\u001b[0m\u001b[0;34m=\u001b[0m\u001b[0mpd\u001b[0m\u001b[0;34m.\u001b[0m\u001b[0mread_excel\u001b[0m\u001b[0;34m(\u001b[0m\u001b[0;34m'score.xlsx'\u001b[0m\u001b[0;34m)\u001b[0m\u001b[0;34m\u001b[0m\u001b[0m\n\u001b[0m\u001b[1;32m      2\u001b[0m \u001b[0mdf\u001b[0m\u001b[0;34m=\u001b[0m\u001b[0mpd\u001b[0m\u001b[0;34m.\u001b[0m\u001b[0mDataFrame\u001b[0m\u001b[0;34m(\u001b[0m\u001b[0mdata\u001b[0m\u001b[0;34m)\u001b[0m\u001b[0;34m\u001b[0m\u001b[0m\n\u001b[1;32m      3\u001b[0m \u001b[0mdf\u001b[0m\u001b[0;34m.\u001b[0m\u001b[0mto_excel\u001b[0m\u001b[0;34m(\u001b[0m\u001b[0;34m'score.xlsx'\u001b[0m\u001b[0;34m,\u001b[0m\u001b[0msheet_name\u001b[0m\u001b[0;34m=\u001b[0m\u001b[0;34m'score'\u001b[0m\u001b[0;34m)\u001b[0m\u001b[0;34m\u001b[0m\u001b[0m\n",
      "\u001b[0;32m~/anaconda3/lib/python3.6/site-packages/pandas/io/excel.py\u001b[0m in \u001b[0;36mread_excel\u001b[0;34m(io, sheetname, header, skiprows, skip_footer, index_col, names, parse_cols, parse_dates, date_parser, na_values, thousands, convert_float, has_index_names, converters, dtype, true_values, false_values, engine, squeeze, **kwds)\u001b[0m\n\u001b[1;32m    201\u001b[0m \u001b[0;34m\u001b[0m\u001b[0m\n\u001b[1;32m    202\u001b[0m     \u001b[0;32mif\u001b[0m \u001b[0;32mnot\u001b[0m \u001b[0misinstance\u001b[0m\u001b[0;34m(\u001b[0m\u001b[0mio\u001b[0m\u001b[0;34m,\u001b[0m \u001b[0mExcelFile\u001b[0m\u001b[0;34m)\u001b[0m\u001b[0;34m:\u001b[0m\u001b[0;34m\u001b[0m\u001b[0m\n\u001b[0;32m--> 203\u001b[0;31m         \u001b[0mio\u001b[0m \u001b[0;34m=\u001b[0m \u001b[0mExcelFile\u001b[0m\u001b[0;34m(\u001b[0m\u001b[0mio\u001b[0m\u001b[0;34m,\u001b[0m \u001b[0mengine\u001b[0m\u001b[0;34m=\u001b[0m\u001b[0mengine\u001b[0m\u001b[0;34m)\u001b[0m\u001b[0;34m\u001b[0m\u001b[0m\n\u001b[0m\u001b[1;32m    204\u001b[0m \u001b[0;34m\u001b[0m\u001b[0m\n\u001b[1;32m    205\u001b[0m     return io._parse_excel(\n",
      "\u001b[0;32m~/anaconda3/lib/python3.6/site-packages/pandas/io/excel.py\u001b[0m in \u001b[0;36m__init__\u001b[0;34m(self, io, **kwds)\u001b[0m\n\u001b[1;32m    258\u001b[0m             \u001b[0mself\u001b[0m\u001b[0;34m.\u001b[0m\u001b[0mbook\u001b[0m \u001b[0;34m=\u001b[0m \u001b[0mxlrd\u001b[0m\u001b[0;34m.\u001b[0m\u001b[0mopen_workbook\u001b[0m\u001b[0;34m(\u001b[0m\u001b[0mfile_contents\u001b[0m\u001b[0;34m=\u001b[0m\u001b[0mdata\u001b[0m\u001b[0;34m)\u001b[0m\u001b[0;34m\u001b[0m\u001b[0m\n\u001b[1;32m    259\u001b[0m         \u001b[0;32melif\u001b[0m \u001b[0misinstance\u001b[0m\u001b[0;34m(\u001b[0m\u001b[0mio\u001b[0m\u001b[0;34m,\u001b[0m \u001b[0mcompat\u001b[0m\u001b[0;34m.\u001b[0m\u001b[0mstring_types\u001b[0m\u001b[0;34m)\u001b[0m\u001b[0;34m:\u001b[0m\u001b[0;34m\u001b[0m\u001b[0m\n\u001b[0;32m--> 260\u001b[0;31m             \u001b[0mself\u001b[0m\u001b[0;34m.\u001b[0m\u001b[0mbook\u001b[0m \u001b[0;34m=\u001b[0m \u001b[0mxlrd\u001b[0m\u001b[0;34m.\u001b[0m\u001b[0mopen_workbook\u001b[0m\u001b[0;34m(\u001b[0m\u001b[0mio\u001b[0m\u001b[0;34m)\u001b[0m\u001b[0;34m\u001b[0m\u001b[0m\n\u001b[0m\u001b[1;32m    261\u001b[0m         \u001b[0;32melse\u001b[0m\u001b[0;34m:\u001b[0m\u001b[0;34m\u001b[0m\u001b[0m\n\u001b[1;32m    262\u001b[0m             raise ValueError('Must explicitly set engine if not passing in'\n",
      "\u001b[0;32m~/anaconda3/lib/python3.6/site-packages/xlrd/__init__.py\u001b[0m in \u001b[0;36mopen_workbook\u001b[0;34m(filename, logfile, verbosity, use_mmap, file_contents, encoding_override, formatting_info, on_demand, ragged_rows)\u001b[0m\n\u001b[1;32m    114\u001b[0m         \u001b[0mpeek\u001b[0m \u001b[0;34m=\u001b[0m \u001b[0mfile_contents\u001b[0m\u001b[0;34m[\u001b[0m\u001b[0;34m:\u001b[0m\u001b[0mpeeksz\u001b[0m\u001b[0;34m]\u001b[0m\u001b[0;34m\u001b[0m\u001b[0m\n\u001b[1;32m    115\u001b[0m     \u001b[0;32melse\u001b[0m\u001b[0;34m:\u001b[0m\u001b[0;34m\u001b[0m\u001b[0m\n\u001b[0;32m--> 116\u001b[0;31m         \u001b[0;32mwith\u001b[0m \u001b[0mopen\u001b[0m\u001b[0;34m(\u001b[0m\u001b[0mfilename\u001b[0m\u001b[0;34m,\u001b[0m \u001b[0;34m\"rb\"\u001b[0m\u001b[0;34m)\u001b[0m \u001b[0;32mas\u001b[0m \u001b[0mf\u001b[0m\u001b[0;34m:\u001b[0m\u001b[0;34m\u001b[0m\u001b[0m\n\u001b[0m\u001b[1;32m    117\u001b[0m             \u001b[0mpeek\u001b[0m \u001b[0;34m=\u001b[0m \u001b[0mf\u001b[0m\u001b[0;34m.\u001b[0m\u001b[0mread\u001b[0m\u001b[0;34m(\u001b[0m\u001b[0mpeeksz\u001b[0m\u001b[0;34m)\u001b[0m\u001b[0;34m\u001b[0m\u001b[0m\n\u001b[1;32m    118\u001b[0m     \u001b[0;32mif\u001b[0m \u001b[0mpeek\u001b[0m \u001b[0;34m==\u001b[0m \u001b[0;34mb\"PK\\x03\\x04\"\u001b[0m\u001b[0;34m:\u001b[0m \u001b[0;31m# a ZIP file\u001b[0m\u001b[0;34m\u001b[0m\u001b[0m\n",
      "\u001b[0;31mFileNotFoundError\u001b[0m: [Errno 2] No such file or directory: 'score.xlsx'"
     ]
    }
   ],
   "source": [
    "data=pd.read_excel('score.xlsx')\n",
    "df=pd.DataFrame(data)\n",
    "df.to_excel('score.xlsx',sheet_name='score')"
   ]
  },
  {
   "cell_type": "code",
   "execution_count": 41,
   "metadata": {},
   "outputs": [],
   "source": [
    "# 选择行（索引、切片，专门的方法）\n",
    "# 选择列：df.name / df['name']\n",
    "# 选择区域：df.loc['b':'d','']\n",
    "# df.iloc[:,[1,2,3]] df.loc['a':'c',] df.loc[:,['','']]\n",
    "# df.ix['a'] or df.ix[0]\n",
    "# 筛选 df[(index>=)]"
   ]
  },
  {
   "cell_type": "code",
   "execution_count": 42,
   "metadata": {},
   "outputs": [
    {
     "ename": "TypeError",
     "evalue": "cannot perform reduce with flexible type",
     "output_type": "error",
     "traceback": [
      "\u001b[0;31m---------------------------------------------------------------------------\u001b[0m",
      "\u001b[0;31mTypeError\u001b[0m                                 Traceback (most recent call last)",
      "\u001b[0;32m<ipython-input-42-ac9a63fa4584>\u001b[0m in \u001b[0;36m<module>\u001b[0;34m()\u001b[0m\n\u001b[0;32m----> 1\u001b[0;31m \u001b[0mdata\u001b[0m\u001b[0;34m.\u001b[0m\u001b[0m总分\u001b[0m\u001b[0;34m=\u001b[0m\u001b[0mdata\u001b[0m\u001b[0;34m.\u001b[0m\u001b[0msum\u001b[0m\u001b[0;34m(\u001b[0m\u001b[0maxis\u001b[0m\u001b[0;34m=\u001b[0m\u001b[0;36m1\u001b[0m\u001b[0;34m)\u001b[0m\u001b[0;34m\u001b[0m\u001b[0m\n\u001b[0m",
      "\u001b[0;32m~/anaconda3/lib/python3.6/site-packages/numpy/core/_methods.py\u001b[0m in \u001b[0;36m_sum\u001b[0;34m(a, axis, dtype, out, keepdims)\u001b[0m\n\u001b[1;32m     30\u001b[0m \u001b[0;34m\u001b[0m\u001b[0m\n\u001b[1;32m     31\u001b[0m \u001b[0;32mdef\u001b[0m \u001b[0m_sum\u001b[0m\u001b[0;34m(\u001b[0m\u001b[0ma\u001b[0m\u001b[0;34m,\u001b[0m \u001b[0maxis\u001b[0m\u001b[0;34m=\u001b[0m\u001b[0;32mNone\u001b[0m\u001b[0;34m,\u001b[0m \u001b[0mdtype\u001b[0m\u001b[0;34m=\u001b[0m\u001b[0;32mNone\u001b[0m\u001b[0;34m,\u001b[0m \u001b[0mout\u001b[0m\u001b[0;34m=\u001b[0m\u001b[0;32mNone\u001b[0m\u001b[0;34m,\u001b[0m \u001b[0mkeepdims\u001b[0m\u001b[0;34m=\u001b[0m\u001b[0;32mFalse\u001b[0m\u001b[0;34m)\u001b[0m\u001b[0;34m:\u001b[0m\u001b[0;34m\u001b[0m\u001b[0m\n\u001b[0;32m---> 32\u001b[0;31m     \u001b[0;32mreturn\u001b[0m \u001b[0mumr_sum\u001b[0m\u001b[0;34m(\u001b[0m\u001b[0ma\u001b[0m\u001b[0;34m,\u001b[0m \u001b[0maxis\u001b[0m\u001b[0;34m,\u001b[0m \u001b[0mdtype\u001b[0m\u001b[0;34m,\u001b[0m \u001b[0mout\u001b[0m\u001b[0;34m,\u001b[0m \u001b[0mkeepdims\u001b[0m\u001b[0;34m)\u001b[0m\u001b[0;34m\u001b[0m\u001b[0m\n\u001b[0m\u001b[1;32m     33\u001b[0m \u001b[0;34m\u001b[0m\u001b[0m\n\u001b[1;32m     34\u001b[0m \u001b[0;32mdef\u001b[0m \u001b[0m_prod\u001b[0m\u001b[0;34m(\u001b[0m\u001b[0ma\u001b[0m\u001b[0;34m,\u001b[0m \u001b[0maxis\u001b[0m\u001b[0;34m=\u001b[0m\u001b[0;32mNone\u001b[0m\u001b[0;34m,\u001b[0m \u001b[0mdtype\u001b[0m\u001b[0;34m=\u001b[0m\u001b[0;32mNone\u001b[0m\u001b[0;34m,\u001b[0m \u001b[0mout\u001b[0m\u001b[0;34m=\u001b[0m\u001b[0;32mNone\u001b[0m\u001b[0;34m,\u001b[0m \u001b[0mkeepdims\u001b[0m\u001b[0;34m=\u001b[0m\u001b[0;32mFalse\u001b[0m\u001b[0;34m)\u001b[0m\u001b[0;34m:\u001b[0m\u001b[0;34m\u001b[0m\u001b[0m\n",
      "\u001b[0;31mTypeError\u001b[0m: cannot perform reduce with flexible type"
     ]
    }
   ],
   "source": [
    "data.总分=data.sum(axis=1)"
   ]
  },
  {
   "cell_type": "code",
   "execution_count": 43,
   "metadata": {},
   "outputs": [
    {
     "ename": "TypeError",
     "evalue": "cannot perform reduce with flexible type",
     "output_type": "error",
     "traceback": [
      "\u001b[0;31m---------------------------------------------------------------------------\u001b[0m",
      "\u001b[0;31mTypeError\u001b[0m                                 Traceback (most recent call last)",
      "\u001b[0;32m<ipython-input-43-de84dc4be28a>\u001b[0m in \u001b[0;36m<module>\u001b[0;34m()\u001b[0m\n\u001b[0;32m----> 1\u001b[0;31m \u001b[0mx\u001b[0m\u001b[0;34m=\u001b[0m\u001b[0mdata\u001b[0m\u001b[0;34m.\u001b[0m\u001b[0msum\u001b[0m\u001b[0;34m(\u001b[0m\u001b[0maxis\u001b[0m\u001b[0;34m=\u001b[0m\u001b[0;36m1\u001b[0m\u001b[0;34m)\u001b[0m\u001b[0;34m\u001b[0m\u001b[0m\n\u001b[0m\u001b[1;32m      2\u001b[0m \u001b[0mdata\u001b[0m\u001b[0;34m\u001b[0m\u001b[0m\n",
      "\u001b[0;32m~/anaconda3/lib/python3.6/site-packages/numpy/core/_methods.py\u001b[0m in \u001b[0;36m_sum\u001b[0;34m(a, axis, dtype, out, keepdims)\u001b[0m\n\u001b[1;32m     30\u001b[0m \u001b[0;34m\u001b[0m\u001b[0m\n\u001b[1;32m     31\u001b[0m \u001b[0;32mdef\u001b[0m \u001b[0m_sum\u001b[0m\u001b[0;34m(\u001b[0m\u001b[0ma\u001b[0m\u001b[0;34m,\u001b[0m \u001b[0maxis\u001b[0m\u001b[0;34m=\u001b[0m\u001b[0;32mNone\u001b[0m\u001b[0;34m,\u001b[0m \u001b[0mdtype\u001b[0m\u001b[0;34m=\u001b[0m\u001b[0;32mNone\u001b[0m\u001b[0;34m,\u001b[0m \u001b[0mout\u001b[0m\u001b[0;34m=\u001b[0m\u001b[0;32mNone\u001b[0m\u001b[0;34m,\u001b[0m \u001b[0mkeepdims\u001b[0m\u001b[0;34m=\u001b[0m\u001b[0;32mFalse\u001b[0m\u001b[0;34m)\u001b[0m\u001b[0;34m:\u001b[0m\u001b[0;34m\u001b[0m\u001b[0m\n\u001b[0;32m---> 32\u001b[0;31m     \u001b[0;32mreturn\u001b[0m \u001b[0mumr_sum\u001b[0m\u001b[0;34m(\u001b[0m\u001b[0ma\u001b[0m\u001b[0;34m,\u001b[0m \u001b[0maxis\u001b[0m\u001b[0;34m,\u001b[0m \u001b[0mdtype\u001b[0m\u001b[0;34m,\u001b[0m \u001b[0mout\u001b[0m\u001b[0;34m,\u001b[0m \u001b[0mkeepdims\u001b[0m\u001b[0;34m)\u001b[0m\u001b[0;34m\u001b[0m\u001b[0m\n\u001b[0m\u001b[1;32m     33\u001b[0m \u001b[0;34m\u001b[0m\u001b[0m\n\u001b[1;32m     34\u001b[0m \u001b[0;32mdef\u001b[0m \u001b[0m_prod\u001b[0m\u001b[0;34m(\u001b[0m\u001b[0ma\u001b[0m\u001b[0;34m,\u001b[0m \u001b[0maxis\u001b[0m\u001b[0;34m=\u001b[0m\u001b[0;32mNone\u001b[0m\u001b[0;34m,\u001b[0m \u001b[0mdtype\u001b[0m\u001b[0;34m=\u001b[0m\u001b[0;32mNone\u001b[0m\u001b[0;34m,\u001b[0m \u001b[0mout\u001b[0m\u001b[0;34m=\u001b[0m\u001b[0;32mNone\u001b[0m\u001b[0;34m,\u001b[0m \u001b[0mkeepdims\u001b[0m\u001b[0;34m=\u001b[0m\u001b[0;32mFalse\u001b[0m\u001b[0;34m)\u001b[0m\u001b[0;34m:\u001b[0m\u001b[0;34m\u001b[0m\u001b[0m\n",
      "\u001b[0;31mTypeError\u001b[0m: cannot perform reduce with flexible type"
     ]
    }
   ],
   "source": [
    "x=data.sum(axis=1)\n",
    "data"
   ]
  },
  {
   "cell_type": "code",
   "execution_count": 44,
   "metadata": {},
   "outputs": [
    {
     "ename": "NameError",
     "evalue": "name 'df' is not defined",
     "output_type": "error",
     "traceback": [
      "\u001b[0;31m---------------------------------------------------------------------------\u001b[0m",
      "\u001b[0;31mNameError\u001b[0m                                 Traceback (most recent call last)",
      "\u001b[0;32m<ipython-input-44-ad47504096a7>\u001b[0m in \u001b[0;36m<module>\u001b[0;34m()\u001b[0m\n\u001b[0;32m----> 1\u001b[0;31m \u001b[0mdf\u001b[0m\u001b[0;34m.\u001b[0m\u001b[0m数学\u001b[0m\u001b[0;34m.\u001b[0m\u001b[0mmean\u001b[0m\u001b[0;34m(\u001b[0m\u001b[0;34m)\u001b[0m\u001b[0;34m\u001b[0m\u001b[0m\n\u001b[0m",
      "\u001b[0;31mNameError\u001b[0m: name 'df' is not defined"
     ]
    }
   ],
   "source": [
    "df.数学.mean()"
   ]
  },
  {
   "cell_type": "code",
   "execution_count": null,
   "metadata": {},
   "outputs": [],
   "source": [
    "df.sort_values(by=)"
   ]
  },
  {
   "cell_type": "code",
   "execution_count": 47,
   "metadata": {},
   "outputs": [
    {
     "data": {
      "text/html": [
       "<div>\n",
       "<style>\n",
       "    .dataframe thead tr:only-child th {\n",
       "        text-align: right;\n",
       "    }\n",
       "\n",
       "    .dataframe thead th {\n",
       "        text-align: left;\n",
       "    }\n",
       "\n",
       "    .dataframe tbody tr th {\n",
       "        vertical-align: top;\n",
       "    }\n",
       "</style>\n",
       "<table border=\"1\" class=\"dataframe\">\n",
       "  <thead>\n",
       "    <tr style=\"text-align: right;\">\n",
       "      <th></th>\n",
       "      <th>open</th>\n",
       "      <th>high</th>\n",
       "      <th>close</th>\n",
       "      <th>low</th>\n",
       "      <th>volume</th>\n",
       "      <th>price_change</th>\n",
       "      <th>p_change</th>\n",
       "      <th>ma5</th>\n",
       "      <th>ma10</th>\n",
       "      <th>ma20</th>\n",
       "      <th>v_ma5</th>\n",
       "      <th>v_ma10</th>\n",
       "      <th>v_ma20</th>\n",
       "    </tr>\n",
       "    <tr>\n",
       "      <th>date</th>\n",
       "      <th></th>\n",
       "      <th></th>\n",
       "      <th></th>\n",
       "      <th></th>\n",
       "      <th></th>\n",
       "      <th></th>\n",
       "      <th></th>\n",
       "      <th></th>\n",
       "      <th></th>\n",
       "      <th></th>\n",
       "      <th></th>\n",
       "      <th></th>\n",
       "      <th></th>\n",
       "    </tr>\n",
       "  </thead>\n",
       "  <tbody>\n",
       "    <tr>\n",
       "      <th>2018-05-30</th>\n",
       "      <td>7.74</td>\n",
       "      <td>7.75</td>\n",
       "      <td>7.67</td>\n",
       "      <td>7.57</td>\n",
       "      <td>315412.97</td>\n",
       "      <td>-0.17</td>\n",
       "      <td>-2.17</td>\n",
       "      <td>7.878</td>\n",
       "      <td>7.982</td>\n",
       "      <td>7.998</td>\n",
       "      <td>200595.69</td>\n",
       "      <td>222454.04</td>\n",
       "      <td>250670.87</td>\n",
       "    </tr>\n",
       "    <tr>\n",
       "      <th>2018-05-29</th>\n",
       "      <td>7.95</td>\n",
       "      <td>7.95</td>\n",
       "      <td>7.85</td>\n",
       "      <td>7.79</td>\n",
       "      <td>230070.88</td>\n",
       "      <td>-0.10</td>\n",
       "      <td>-1.26</td>\n",
       "      <td>7.944</td>\n",
       "      <td>8.015</td>\n",
       "      <td>8.013</td>\n",
       "      <td>185792.55</td>\n",
       "      <td>220492.96</td>\n",
       "      <td>261903.56</td>\n",
       "    </tr>\n",
       "    <tr>\n",
       "      <th>2018-05-28</th>\n",
       "      <td>7.90</td>\n",
       "      <td>7.99</td>\n",
       "      <td>7.94</td>\n",
       "      <td>7.89</td>\n",
       "      <td>164015.98</td>\n",
       "      <td>-0.02</td>\n",
       "      <td>-0.25</td>\n",
       "      <td>8.000</td>\n",
       "      <td>8.036</td>\n",
       "      <td>8.033</td>\n",
       "      <td>173437.34</td>\n",
       "      <td>221906.93</td>\n",
       "      <td>261700.50</td>\n",
       "    </tr>\n",
       "    <tr>\n",
       "      <th>2018-05-25</th>\n",
       "      <td>7.96</td>\n",
       "      <td>8.01</td>\n",
       "      <td>7.96</td>\n",
       "      <td>7.93</td>\n",
       "      <td>129703.42</td>\n",
       "      <td>-0.01</td>\n",
       "      <td>-0.12</td>\n",
       "      <td>8.044</td>\n",
       "      <td>8.038</td>\n",
       "      <td>8.045</td>\n",
       "      <td>203825.43</td>\n",
       "      <td>230050.67</td>\n",
       "      <td>266314.50</td>\n",
       "    </tr>\n",
       "    <tr>\n",
       "      <th>2018-05-24</th>\n",
       "      <td>8.00</td>\n",
       "      <td>8.00</td>\n",
       "      <td>7.97</td>\n",
       "      <td>7.94</td>\n",
       "      <td>163775.20</td>\n",
       "      <td>-0.03</td>\n",
       "      <td>-0.38</td>\n",
       "      <td>8.076</td>\n",
       "      <td>8.044</td>\n",
       "      <td>8.065</td>\n",
       "      <td>237768.23</td>\n",
       "      <td>239549.21</td>\n",
       "      <td>271257.91</td>\n",
       "    </tr>\n",
       "    <tr>\n",
       "      <th>2018-05-23</th>\n",
       "      <td>8.09</td>\n",
       "      <td>8.12</td>\n",
       "      <td>8.00</td>\n",
       "      <td>7.99</td>\n",
       "      <td>241397.27</td>\n",
       "      <td>-0.13</td>\n",
       "      <td>-1.60</td>\n",
       "      <td>8.086</td>\n",
       "      <td>8.057</td>\n",
       "      <td>8.089</td>\n",
       "      <td>244312.40</td>\n",
       "      <td>250222.99</td>\n",
       "      <td>283624.81</td>\n",
       "    </tr>\n",
       "    <tr>\n",
       "      <th>2018-05-22</th>\n",
       "      <td>8.15</td>\n",
       "      <td>8.15</td>\n",
       "      <td>8.13</td>\n",
       "      <td>8.08</td>\n",
       "      <td>168294.81</td>\n",
       "      <td>-0.03</td>\n",
       "      <td>-0.37</td>\n",
       "      <td>8.086</td>\n",
       "      <td>8.054</td>\n",
       "      <td>8.096</td>\n",
       "      <td>255193.37</td>\n",
       "      <td>254788.51</td>\n",
       "      <td>285537.00</td>\n",
       "    </tr>\n",
       "    <tr>\n",
       "      <th>2018-05-21</th>\n",
       "      <td>8.19</td>\n",
       "      <td>8.24</td>\n",
       "      <td>8.16</td>\n",
       "      <td>8.13</td>\n",
       "      <td>315956.47</td>\n",
       "      <td>0.05</td>\n",
       "      <td>0.62</td>\n",
       "      <td>8.072</td>\n",
       "      <td>8.046</td>\n",
       "      <td>8.091</td>\n",
       "      <td>270376.52</td>\n",
       "      <td>267477.84</td>\n",
       "      <td>292454.33</td>\n",
       "    </tr>\n",
       "    <tr>\n",
       "      <th>2018-05-18</th>\n",
       "      <td>8.01</td>\n",
       "      <td>8.12</td>\n",
       "      <td>8.12</td>\n",
       "      <td>7.98</td>\n",
       "      <td>299417.38</td>\n",
       "      <td>0.10</td>\n",
       "      <td>1.25</td>\n",
       "      <td>8.032</td>\n",
       "      <td>8.032</td>\n",
       "      <td>8.098</td>\n",
       "      <td>256275.90</td>\n",
       "      <td>273234.14</td>\n",
       "      <td>290041.87</td>\n",
       "    </tr>\n",
       "    <tr>\n",
       "      <th>2018-05-17</th>\n",
       "      <td>8.00</td>\n",
       "      <td>8.07</td>\n",
       "      <td>8.02</td>\n",
       "      <td>7.98</td>\n",
       "      <td>196496.05</td>\n",
       "      <td>0.02</td>\n",
       "      <td>0.25</td>\n",
       "      <td>8.012</td>\n",
       "      <td>8.013</td>\n",
       "      <td>8.109</td>\n",
       "      <td>241330.18</td>\n",
       "      <td>267192.29</td>\n",
       "      <td>293886.84</td>\n",
       "    </tr>\n",
       "    <tr>\n",
       "      <th>2018-05-16</th>\n",
       "      <td>8.03</td>\n",
       "      <td>8.08</td>\n",
       "      <td>8.00</td>\n",
       "      <td>7.97</td>\n",
       "      <td>295802.16</td>\n",
       "      <td>-0.06</td>\n",
       "      <td>-0.74</td>\n",
       "      <td>8.028</td>\n",
       "      <td>8.013</td>\n",
       "      <td>8.121</td>\n",
       "      <td>256133.57</td>\n",
       "      <td>278887.71</td>\n",
       "      <td>297828.44</td>\n",
       "    </tr>\n",
       "    <tr>\n",
       "      <th>2018-05-15</th>\n",
       "      <td>8.00</td>\n",
       "      <td>8.07</td>\n",
       "      <td>8.06</td>\n",
       "      <td>7.95</td>\n",
       "      <td>244210.52</td>\n",
       "      <td>0.11</td>\n",
       "      <td>1.38</td>\n",
       "      <td>8.022</td>\n",
       "      <td>8.010</td>\n",
       "      <td>8.139</td>\n",
       "      <td>254383.65</td>\n",
       "      <td>303314.16</td>\n",
       "      <td>298656.49</td>\n",
       "    </tr>\n",
       "    <tr>\n",
       "      <th>2018-05-14</th>\n",
       "      <td>8.01</td>\n",
       "      <td>8.03</td>\n",
       "      <td>7.96</td>\n",
       "      <td>7.93</td>\n",
       "      <td>245453.38</td>\n",
       "      <td>-0.06</td>\n",
       "      <td>-0.75</td>\n",
       "      <td>8.020</td>\n",
       "      <td>8.029</td>\n",
       "      <td>8.162</td>\n",
       "      <td>264579.17</td>\n",
       "      <td>301494.06</td>\n",
       "      <td>297090.65</td>\n",
       "    </tr>\n",
       "    <tr>\n",
       "      <th>2018-05-11</th>\n",
       "      <td>8.11</td>\n",
       "      <td>8.12</td>\n",
       "      <td>8.02</td>\n",
       "      <td>8.01</td>\n",
       "      <td>224688.81</td>\n",
       "      <td>-0.08</td>\n",
       "      <td>-0.99</td>\n",
       "      <td>8.032</td>\n",
       "      <td>8.052</td>\n",
       "      <td>8.190</td>\n",
       "      <td>290192.39</td>\n",
       "      <td>302578.32</td>\n",
       "      <td>298059.62</td>\n",
       "    </tr>\n",
       "    <tr>\n",
       "      <th>2018-05-10</th>\n",
       "      <td>8.00</td>\n",
       "      <td>8.10</td>\n",
       "      <td>8.10</td>\n",
       "      <td>7.95</td>\n",
       "      <td>270513.00</td>\n",
       "      <td>0.13</td>\n",
       "      <td>1.63</td>\n",
       "      <td>8.014</td>\n",
       "      <td>8.086</td>\n",
       "      <td>8.220</td>\n",
       "      <td>293054.39</td>\n",
       "      <td>302966.62</td>\n",
       "      <td>309354.48</td>\n",
       "    </tr>\n",
       "    <tr>\n",
       "      <th>2018-05-09</th>\n",
       "      <td>8.04</td>\n",
       "      <td>8.05</td>\n",
       "      <td>7.97</td>\n",
       "      <td>7.95</td>\n",
       "      <td>287052.53</td>\n",
       "      <td>-0.08</td>\n",
       "      <td>-0.99</td>\n",
       "      <td>7.998</td>\n",
       "      <td>8.120</td>\n",
       "      <td>8.251</td>\n",
       "      <td>301641.84</td>\n",
       "      <td>317026.64</td>\n",
       "      <td>318280.97</td>\n",
       "    </tr>\n",
       "    <tr>\n",
       "      <th>2018-05-08</th>\n",
       "      <td>8.02</td>\n",
       "      <td>8.09</td>\n",
       "      <td>8.05</td>\n",
       "      <td>8.01</td>\n",
       "      <td>295188.12</td>\n",
       "      <td>0.03</td>\n",
       "      <td>0.37</td>\n",
       "      <td>7.998</td>\n",
       "      <td>8.137</td>\n",
       "      <td>8.274</td>\n",
       "      <td>352244.68</td>\n",
       "      <td>316285.50</td>\n",
       "      <td>320527.44</td>\n",
       "    </tr>\n",
       "    <tr>\n",
       "      <th>2018-05-07</th>\n",
       "      <td>7.97</td>\n",
       "      <td>8.06</td>\n",
       "      <td>8.02</td>\n",
       "      <td>7.90</td>\n",
       "      <td>373519.47</td>\n",
       "      <td>0.08</td>\n",
       "      <td>1.01</td>\n",
       "      <td>8.038</td>\n",
       "      <td>8.136</td>\n",
       "      <td>8.295</td>\n",
       "      <td>338408.96</td>\n",
       "      <td>317430.82</td>\n",
       "      <td>320402.99</td>\n",
       "    </tr>\n",
       "    <tr>\n",
       "      <th>2018-05-04</th>\n",
       "      <td>8.01</td>\n",
       "      <td>8.04</td>\n",
       "      <td>7.93</td>\n",
       "      <td>7.92</td>\n",
       "      <td>238998.81</td>\n",
       "      <td>-0.09</td>\n",
       "      <td>-1.12</td>\n",
       "      <td>8.072</td>\n",
       "      <td>8.164</td>\n",
       "      <td>8.322</td>\n",
       "      <td>314964.26</td>\n",
       "      <td>306849.59</td>\n",
       "      <td>320022.98</td>\n",
       "    </tr>\n",
       "    <tr>\n",
       "      <th>2018-05-03</th>\n",
       "      <td>7.91</td>\n",
       "      <td>8.04</td>\n",
       "      <td>8.02</td>\n",
       "      <td>7.87</td>\n",
       "      <td>313450.25</td>\n",
       "      <td>0.04</td>\n",
       "      <td>0.50</td>\n",
       "      <td>8.158</td>\n",
       "      <td>8.205</td>\n",
       "      <td>8.363</td>\n",
       "      <td>312878.84</td>\n",
       "      <td>320581.40</td>\n",
       "      <td>325176.98</td>\n",
       "    </tr>\n",
       "    <tr>\n",
       "      <th>2018-05-02</th>\n",
       "      <td>8.22</td>\n",
       "      <td>8.23</td>\n",
       "      <td>7.97</td>\n",
       "      <td>7.91</td>\n",
       "      <td>540066.75</td>\n",
       "      <td>-0.28</td>\n",
       "      <td>-3.39</td>\n",
       "      <td>8.242</td>\n",
       "      <td>8.228</td>\n",
       "      <td>8.400</td>\n",
       "      <td>332411.44</td>\n",
       "      <td>316769.17</td>\n",
       "      <td>334582.19</td>\n",
       "    </tr>\n",
       "    <tr>\n",
       "      <th>2018-04-27</th>\n",
       "      <td>8.21</td>\n",
       "      <td>8.29</td>\n",
       "      <td>8.25</td>\n",
       "      <td>8.14</td>\n",
       "      <td>226009.52</td>\n",
       "      <td>0.07</td>\n",
       "      <td>0.86</td>\n",
       "      <td>8.276</td>\n",
       "      <td>8.267</td>\n",
       "      <td>8.435</td>\n",
       "      <td>280326.31</td>\n",
       "      <td>293998.81</td>\n",
       "      <td>329282.03</td>\n",
       "    </tr>\n",
       "    <tr>\n",
       "      <th>2018-04-26</th>\n",
       "      <td>8.36</td>\n",
       "      <td>8.38</td>\n",
       "      <td>8.19</td>\n",
       "      <td>8.15</td>\n",
       "      <td>256295.98</td>\n",
       "      <td>-0.16</td>\n",
       "      <td>-1.92</td>\n",
       "      <td>8.234</td>\n",
       "      <td>8.294</td>\n",
       "      <td>8.444</td>\n",
       "      <td>296452.68</td>\n",
       "      <td>292687.24</td>\n",
       "      <td>331679.17</td>\n",
       "    </tr>\n",
       "    <tr>\n",
       "      <th>2018-04-25</th>\n",
       "      <td>8.37</td>\n",
       "      <td>8.45</td>\n",
       "      <td>8.36</td>\n",
       "      <td>8.33</td>\n",
       "      <td>228571.72</td>\n",
       "      <td>-0.07</td>\n",
       "      <td>-0.83</td>\n",
       "      <td>8.256</td>\n",
       "      <td>8.328</td>\n",
       "      <td>8.463</td>\n",
       "      <td>298734.93</td>\n",
       "      <td>293540.92</td>\n",
       "      <td>337133.16</td>\n",
       "    </tr>\n",
       "    <tr>\n",
       "      <th>2018-04-24</th>\n",
       "      <td>8.14</td>\n",
       "      <td>8.44</td>\n",
       "      <td>8.44</td>\n",
       "      <td>8.14</td>\n",
       "      <td>411113.25</td>\n",
       "      <td>0.30</td>\n",
       "      <td>3.69</td>\n",
       "      <td>8.252</td>\n",
       "      <td>8.354</td>\n",
       "      <td>8.470</td>\n",
       "      <td>328283.96</td>\n",
       "      <td>315742.34</td>\n",
       "      <td>346827.34</td>\n",
       "    </tr>\n",
       "    <tr>\n",
       "      <th>2018-04-23</th>\n",
       "      <td>8.07</td>\n",
       "      <td>8.22</td>\n",
       "      <td>8.14</td>\n",
       "      <td>8.06</td>\n",
       "      <td>279641.09</td>\n",
       "      <td>0.11</td>\n",
       "      <td>1.37</td>\n",
       "      <td>8.214</td>\n",
       "      <td>8.381</td>\n",
       "      <td>8.468</td>\n",
       "      <td>301126.90</td>\n",
       "      <td>319535.30</td>\n",
       "      <td>351516.69</td>\n",
       "    </tr>\n",
       "    <tr>\n",
       "      <th>2018-04-20</th>\n",
       "      <td>8.30</td>\n",
       "      <td>8.30</td>\n",
       "      <td>8.04</td>\n",
       "      <td>8.02</td>\n",
       "      <td>306641.38</td>\n",
       "      <td>-0.27</td>\n",
       "      <td>-3.25</td>\n",
       "      <td>8.258</td>\n",
       "      <td>8.411</td>\n",
       "      <td>8.499</td>\n",
       "      <td>307671.31</td>\n",
       "      <td>324769.38</td>\n",
       "      <td>352720.41</td>\n",
       "    </tr>\n",
       "    <tr>\n",
       "      <th>2018-04-19</th>\n",
       "      <td>8.29</td>\n",
       "      <td>8.42</td>\n",
       "      <td>8.30</td>\n",
       "      <td>8.28</td>\n",
       "      <td>267707.19</td>\n",
       "      <td>-0.04</td>\n",
       "      <td>-0.48</td>\n",
       "      <td>8.354</td>\n",
       "      <td>8.453</td>\n",
       "      <td>8.539</td>\n",
       "      <td>288921.80</td>\n",
       "      <td>323375.15</td>\n",
       "      <td>354097.71</td>\n",
       "    </tr>\n",
       "    <tr>\n",
       "      <th>2018-04-18</th>\n",
       "      <td>8.31</td>\n",
       "      <td>8.36</td>\n",
       "      <td>8.34</td>\n",
       "      <td>8.09</td>\n",
       "      <td>376316.88</td>\n",
       "      <td>0.08</td>\n",
       "      <td>0.97</td>\n",
       "      <td>8.400</td>\n",
       "      <td>8.479</td>\n",
       "      <td>8.568</td>\n",
       "      <td>288346.90</td>\n",
       "      <td>333196.37</td>\n",
       "      <td>357417.78</td>\n",
       "    </tr>\n",
       "    <tr>\n",
       "      <th>2018-04-17</th>\n",
       "      <td>8.38</td>\n",
       "      <td>8.42</td>\n",
       "      <td>8.25</td>\n",
       "      <td>8.24</td>\n",
       "      <td>275327.97</td>\n",
       "      <td>-0.11</td>\n",
       "      <td>-1.32</td>\n",
       "      <td>8.456</td>\n",
       "      <td>8.520</td>\n",
       "      <td>8.601</td>\n",
       "      <td>303200.73</td>\n",
       "      <td>329772.56</td>\n",
       "      <td>355189.56</td>\n",
       "    </tr>\n",
       "    <tr>\n",
       "      <th>...</th>\n",
       "      <td>...</td>\n",
       "      <td>...</td>\n",
       "      <td>...</td>\n",
       "      <td>...</td>\n",
       "      <td>...</td>\n",
       "      <td>...</td>\n",
       "      <td>...</td>\n",
       "      <td>...</td>\n",
       "      <td>...</td>\n",
       "      <td>...</td>\n",
       "      <td>...</td>\n",
       "      <td>...</td>\n",
       "      <td>...</td>\n",
       "    </tr>\n",
       "    <tr>\n",
       "      <th>2015-07-13</th>\n",
       "      <td>9.19</td>\n",
       "      <td>9.87</td>\n",
       "      <td>9.87</td>\n",
       "      <td>9.18</td>\n",
       "      <td>3132471.00</td>\n",
       "      <td>0.90</td>\n",
       "      <td>10.03</td>\n",
       "      <td>8.524</td>\n",
       "      <td>9.303</td>\n",
       "      <td>10.901</td>\n",
       "      <td>2440037.00</td>\n",
       "      <td>2141769.64</td>\n",
       "      <td>1920615.88</td>\n",
       "    </tr>\n",
       "    <tr>\n",
       "      <th>2015-07-10</th>\n",
       "      <td>8.30</td>\n",
       "      <td>8.97</td>\n",
       "      <td>8.97</td>\n",
       "      <td>8.25</td>\n",
       "      <td>2282375.00</td>\n",
       "      <td>0.82</td>\n",
       "      <td>10.06</td>\n",
       "      <td>8.374</td>\n",
       "      <td>9.400</td>\n",
       "      <td>11.111</td>\n",
       "      <td>2220998.20</td>\n",
       "      <td>2025271.43</td>\n",
       "      <td>1884307.62</td>\n",
       "    </tr>\n",
       "    <tr>\n",
       "      <th>2015-07-09</th>\n",
       "      <td>6.85</td>\n",
       "      <td>8.15</td>\n",
       "      <td>8.15</td>\n",
       "      <td>6.85</td>\n",
       "      <td>2509416.75</td>\n",
       "      <td>0.74</td>\n",
       "      <td>9.99</td>\n",
       "      <td>8.374</td>\n",
       "      <td>9.668</td>\n",
       "      <td>11.357</td>\n",
       "      <td>2118960.12</td>\n",
       "      <td>1961404.54</td>\n",
       "      <td>1879818.41</td>\n",
       "    </tr>\n",
       "    <tr>\n",
       "      <th>2015-07-08</th>\n",
       "      <td>7.41</td>\n",
       "      <td>7.75</td>\n",
       "      <td>7.41</td>\n",
       "      <td>7.41</td>\n",
       "      <td>1706489.25</td>\n",
       "      <td>-0.82</td>\n",
       "      <td>-9.96</td>\n",
       "      <td>8.738</td>\n",
       "      <td>10.161</td>\n",
       "      <td>11.656</td>\n",
       "      <td>1941550.27</td>\n",
       "      <td>1946318.16</td>\n",
       "      <td>1962709.79</td>\n",
       "    </tr>\n",
       "    <tr>\n",
       "      <th>2015-07-07</th>\n",
       "      <td>8.92</td>\n",
       "      <td>9.07</td>\n",
       "      <td>8.22</td>\n",
       "      <td>8.22</td>\n",
       "      <td>2569433.00</td>\n",
       "      <td>-0.91</td>\n",
       "      <td>-9.97</td>\n",
       "      <td>9.388</td>\n",
       "      <td>10.690</td>\n",
       "      <td>11.979</td>\n",
       "      <td>1945147.67</td>\n",
       "      <td>1928923.98</td>\n",
       "      <td>2029878.32</td>\n",
       "    </tr>\n",
       "    <tr>\n",
       "      <th>2015-07-06</th>\n",
       "      <td>9.86</td>\n",
       "      <td>9.86</td>\n",
       "      <td>9.12</td>\n",
       "      <td>8.50</td>\n",
       "      <td>2037277.00</td>\n",
       "      <td>0.15</td>\n",
       "      <td>1.67</td>\n",
       "      <td>10.082</td>\n",
       "      <td>11.087</td>\n",
       "      <td>12.289</td>\n",
       "      <td>1843502.27</td>\n",
       "      <td>1807622.69</td>\n",
       "      <td>2140987.42</td>\n",
       "    </tr>\n",
       "    <tr>\n",
       "      <th>2015-07-03</th>\n",
       "      <td>9.80</td>\n",
       "      <td>10.11</td>\n",
       "      <td>8.97</td>\n",
       "      <td>8.97</td>\n",
       "      <td>1772184.62</td>\n",
       "      <td>-1.00</td>\n",
       "      <td>-10.03</td>\n",
       "      <td>10.426</td>\n",
       "      <td>11.363</td>\n",
       "      <td>12.510</td>\n",
       "      <td>1829544.65</td>\n",
       "      <td>1731275.81</td>\n",
       "      <td>2169235.37</td>\n",
       "    </tr>\n",
       "    <tr>\n",
       "      <th>2015-07-02</th>\n",
       "      <td>10.98</td>\n",
       "      <td>11.08</td>\n",
       "      <td>9.97</td>\n",
       "      <td>9.80</td>\n",
       "      <td>1622367.50</td>\n",
       "      <td>-0.70</td>\n",
       "      <td>-6.56</td>\n",
       "      <td>10.962</td>\n",
       "      <td>11.779</td>\n",
       "      <td>12.716</td>\n",
       "      <td>1803848.95</td>\n",
       "      <td>1706073.75</td>\n",
       "      <td>2170819.74</td>\n",
       "    </tr>\n",
       "    <tr>\n",
       "      <th>2015-07-01</th>\n",
       "      <td>11.60</td>\n",
       "      <td>12.00</td>\n",
       "      <td>10.66</td>\n",
       "      <td>10.61</td>\n",
       "      <td>1724476.25</td>\n",
       "      <td>-1.03</td>\n",
       "      <td>-8.81</td>\n",
       "      <td>11.584</td>\n",
       "      <td>12.098</td>\n",
       "      <td>12.883</td>\n",
       "      <td>1951086.05</td>\n",
       "      <td>1689177.08</td>\n",
       "      <td>2193667.02</td>\n",
       "    </tr>\n",
       "    <tr>\n",
       "      <th>2015-06-30</th>\n",
       "      <td>10.88</td>\n",
       "      <td>11.70</td>\n",
       "      <td>11.69</td>\n",
       "      <td>9.80</td>\n",
       "      <td>2061206.00</td>\n",
       "      <td>0.85</td>\n",
       "      <td>7.84</td>\n",
       "      <td>11.992</td>\n",
       "      <td>12.315</td>\n",
       "      <td>13.028</td>\n",
       "      <td>1912700.28</td>\n",
       "      <td>1691635.50</td>\n",
       "      <td>2222341.38</td>\n",
       "    </tr>\n",
       "    <tr>\n",
       "      <th>2015-06-29</th>\n",
       "      <td>12.26</td>\n",
       "      <td>12.26</td>\n",
       "      <td>10.84</td>\n",
       "      <td>10.49</td>\n",
       "      <td>1967488.88</td>\n",
       "      <td>-0.81</td>\n",
       "      <td>-6.95</td>\n",
       "      <td>12.092</td>\n",
       "      <td>12.499</td>\n",
       "      <td>13.105</td>\n",
       "      <td>1771743.10</td>\n",
       "      <td>1699462.13</td>\n",
       "      <td>2215084.01</td>\n",
       "    </tr>\n",
       "    <tr>\n",
       "      <th>2015-06-26</th>\n",
       "      <td>12.40</td>\n",
       "      <td>12.75</td>\n",
       "      <td>11.65</td>\n",
       "      <td>11.65</td>\n",
       "      <td>1643706.12</td>\n",
       "      <td>-1.29</td>\n",
       "      <td>-9.97</td>\n",
       "      <td>12.300</td>\n",
       "      <td>12.821</td>\n",
       "      <td>13.224</td>\n",
       "      <td>1633006.97</td>\n",
       "      <td>1743343.81</td>\n",
       "      <td>2228115.33</td>\n",
       "    </tr>\n",
       "    <tr>\n",
       "      <th>2015-06-25</th>\n",
       "      <td>12.73</td>\n",
       "      <td>13.48</td>\n",
       "      <td>13.08</td>\n",
       "      <td>12.61</td>\n",
       "      <td>2358553.00</td>\n",
       "      <td>0.39</td>\n",
       "      <td>3.07</td>\n",
       "      <td>12.596</td>\n",
       "      <td>13.046</td>\n",
       "      <td>13.312</td>\n",
       "      <td>1608298.55</td>\n",
       "      <td>1798232.28</td>\n",
       "      <td>2260582.51</td>\n",
       "    </tr>\n",
       "    <tr>\n",
       "      <th>2015-06-24</th>\n",
       "      <td>12.22</td>\n",
       "      <td>12.84</td>\n",
       "      <td>12.70</td>\n",
       "      <td>12.22</td>\n",
       "      <td>1532547.38</td>\n",
       "      <td>0.51</td>\n",
       "      <td>4.18</td>\n",
       "      <td>12.612</td>\n",
       "      <td>13.151</td>\n",
       "      <td>13.325</td>\n",
       "      <td>1427268.10</td>\n",
       "      <td>1979101.43</td>\n",
       "      <td>2254819.54</td>\n",
       "    </tr>\n",
       "    <tr>\n",
       "      <th>2015-06-23</th>\n",
       "      <td>11.88</td>\n",
       "      <td>12.20</td>\n",
       "      <td>12.19</td>\n",
       "      <td>10.80</td>\n",
       "      <td>1356420.12</td>\n",
       "      <td>0.30</td>\n",
       "      <td>2.52</td>\n",
       "      <td>12.638</td>\n",
       "      <td>13.267</td>\n",
       "      <td>13.364</td>\n",
       "      <td>1470570.72</td>\n",
       "      <td>2130832.66</td>\n",
       "      <td>2299961.55</td>\n",
       "    </tr>\n",
       "    <tr>\n",
       "      <th>2015-06-19</th>\n",
       "      <td>12.80</td>\n",
       "      <td>13.05</td>\n",
       "      <td>11.88</td>\n",
       "      <td>11.83</td>\n",
       "      <td>1273808.25</td>\n",
       "      <td>-1.25</td>\n",
       "      <td>-9.52</td>\n",
       "      <td>12.906</td>\n",
       "      <td>13.491</td>\n",
       "      <td>13.443</td>\n",
       "      <td>1627181.15</td>\n",
       "      <td>2474352.15</td>\n",
       "      <td>2362864.31</td>\n",
       "    </tr>\n",
       "    <tr>\n",
       "      <th>2015-06-18</th>\n",
       "      <td>13.14</td>\n",
       "      <td>13.54</td>\n",
       "      <td>13.13</td>\n",
       "      <td>12.95</td>\n",
       "      <td>1520164.00</td>\n",
       "      <td>-0.03</td>\n",
       "      <td>-0.23</td>\n",
       "      <td>13.342</td>\n",
       "      <td>13.656</td>\n",
       "      <td>13.554</td>\n",
       "      <td>1853680.65</td>\n",
       "      <td>2607194.93</td>\n",
       "      <td>2440654.03</td>\n",
       "    </tr>\n",
       "    <tr>\n",
       "      <th>2015-06-17</th>\n",
       "      <td>12.76</td>\n",
       "      <td>13.24</td>\n",
       "      <td>13.16</td>\n",
       "      <td>12.38</td>\n",
       "      <td>1453400.75</td>\n",
       "      <td>0.34</td>\n",
       "      <td>2.65</td>\n",
       "      <td>13.496</td>\n",
       "      <td>13.653</td>\n",
       "      <td>13.587</td>\n",
       "      <td>1988166.00</td>\n",
       "      <td>2635565.74</td>\n",
       "      <td>2511460.95</td>\n",
       "    </tr>\n",
       "    <tr>\n",
       "      <th>2015-06-16</th>\n",
       "      <td>13.45</td>\n",
       "      <td>13.45</td>\n",
       "      <td>12.83</td>\n",
       "      <td>12.61</td>\n",
       "      <td>1749060.50</td>\n",
       "      <td>-0.70</td>\n",
       "      <td>-5.17</td>\n",
       "      <td>13.690</td>\n",
       "      <td>13.667</td>\n",
       "      <td>13.623</td>\n",
       "      <td>2530934.75</td>\n",
       "      <td>2698156.96</td>\n",
       "      <td>2599632.64</td>\n",
       "    </tr>\n",
       "    <tr>\n",
       "      <th>2015-06-15</th>\n",
       "      <td>14.06</td>\n",
       "      <td>14.06</td>\n",
       "      <td>13.53</td>\n",
       "      <td>13.50</td>\n",
       "      <td>2139472.25</td>\n",
       "      <td>-0.53</td>\n",
       "      <td>-3.77</td>\n",
       "      <td>13.896</td>\n",
       "      <td>13.741</td>\n",
       "      <td>13.695</td>\n",
       "      <td>2791094.60</td>\n",
       "      <td>2753047.26</td>\n",
       "      <td>2676957.37</td>\n",
       "    </tr>\n",
       "    <tr>\n",
       "      <th>2015-06-12</th>\n",
       "      <td>13.92</td>\n",
       "      <td>14.20</td>\n",
       "      <td>14.06</td>\n",
       "      <td>13.76</td>\n",
       "      <td>2406305.75</td>\n",
       "      <td>0.16</td>\n",
       "      <td>1.15</td>\n",
       "      <td>14.076</td>\n",
       "      <td>13.711</td>\n",
       "      <td>13.711</td>\n",
       "      <td>3321523.15</td>\n",
       "      <td>2730705.89</td>\n",
       "      <td>2730705.89</td>\n",
       "    </tr>\n",
       "    <tr>\n",
       "      <th>2015-06-11</th>\n",
       "      <td>14.07</td>\n",
       "      <td>14.07</td>\n",
       "      <td>13.90</td>\n",
       "      <td>13.60</td>\n",
       "      <td>2192590.75</td>\n",
       "      <td>-0.23</td>\n",
       "      <td>-1.63</td>\n",
       "      <td>13.970</td>\n",
       "      <td>13.672</td>\n",
       "      <td>13.672</td>\n",
       "      <td>3360709.20</td>\n",
       "      <td>2766750.35</td>\n",
       "      <td>2766750.35</td>\n",
       "    </tr>\n",
       "    <tr>\n",
       "      <th>2015-06-10</th>\n",
       "      <td>14.51</td>\n",
       "      <td>14.86</td>\n",
       "      <td>14.13</td>\n",
       "      <td>14.09</td>\n",
       "      <td>4167244.50</td>\n",
       "      <td>0.27</td>\n",
       "      <td>1.95</td>\n",
       "      <td>13.810</td>\n",
       "      <td>13.644</td>\n",
       "      <td>13.644</td>\n",
       "      <td>3282965.47</td>\n",
       "      <td>2838520.30</td>\n",
       "      <td>2838520.30</td>\n",
       "    </tr>\n",
       "    <tr>\n",
       "      <th>2015-06-09</th>\n",
       "      <td>14.33</td>\n",
       "      <td>14.35</td>\n",
       "      <td>13.86</td>\n",
       "      <td>13.66</td>\n",
       "      <td>3049859.75</td>\n",
       "      <td>-0.57</td>\n",
       "      <td>-3.95</td>\n",
       "      <td>13.644</td>\n",
       "      <td>13.574</td>\n",
       "      <td>13.574</td>\n",
       "      <td>2865379.17</td>\n",
       "      <td>2648702.55</td>\n",
       "      <td>2648702.55</td>\n",
       "    </tr>\n",
       "    <tr>\n",
       "      <th>2015-06-08</th>\n",
       "      <td>13.70</td>\n",
       "      <td>14.75</td>\n",
       "      <td>14.43</td>\n",
       "      <td>13.52</td>\n",
       "      <td>4791615.00</td>\n",
       "      <td>0.90</td>\n",
       "      <td>6.65</td>\n",
       "      <td>13.586</td>\n",
       "      <td>13.527</td>\n",
       "      <td>13.527</td>\n",
       "      <td>2714999.92</td>\n",
       "      <td>2581843.02</td>\n",
       "      <td>2581843.02</td>\n",
       "    </tr>\n",
       "    <tr>\n",
       "      <th>2015-06-05</th>\n",
       "      <td>13.25</td>\n",
       "      <td>13.57</td>\n",
       "      <td>13.53</td>\n",
       "      <td>13.10</td>\n",
       "      <td>2602236.00</td>\n",
       "      <td>0.43</td>\n",
       "      <td>3.28</td>\n",
       "      <td>13.346</td>\n",
       "      <td>13.346</td>\n",
       "      <td>13.346</td>\n",
       "      <td>2139888.62</td>\n",
       "      <td>2139888.62</td>\n",
       "      <td>2139888.62</td>\n",
       "    </tr>\n",
       "    <tr>\n",
       "      <th>2015-06-04</th>\n",
       "      <td>13.25</td>\n",
       "      <td>13.26</td>\n",
       "      <td>13.10</td>\n",
       "      <td>12.10</td>\n",
       "      <td>1803872.12</td>\n",
       "      <td>-0.20</td>\n",
       "      <td>-1.50</td>\n",
       "      <td>13.300</td>\n",
       "      <td>13.300</td>\n",
       "      <td>13.300</td>\n",
       "      <td>2024301.78</td>\n",
       "      <td>2024301.78</td>\n",
       "      <td>2024301.78</td>\n",
       "    </tr>\n",
       "    <tr>\n",
       "      <th>2015-06-03</th>\n",
       "      <td>13.66</td>\n",
       "      <td>13.71</td>\n",
       "      <td>13.30</td>\n",
       "      <td>13.10</td>\n",
       "      <td>2079313.00</td>\n",
       "      <td>-0.27</td>\n",
       "      <td>-1.99</td>\n",
       "      <td>13.367</td>\n",
       "      <td>13.367</td>\n",
       "      <td>13.367</td>\n",
       "      <td>2097778.33</td>\n",
       "      <td>2097778.33</td>\n",
       "      <td>2097778.33</td>\n",
       "    </tr>\n",
       "    <tr>\n",
       "      <th>2015-06-02</th>\n",
       "      <td>13.26</td>\n",
       "      <td>13.76</td>\n",
       "      <td>13.57</td>\n",
       "      <td>13.04</td>\n",
       "      <td>2297963.50</td>\n",
       "      <td>0.34</td>\n",
       "      <td>2.57</td>\n",
       "      <td>13.400</td>\n",
       "      <td>13.400</td>\n",
       "      <td>13.400</td>\n",
       "      <td>2107011.00</td>\n",
       "      <td>2107011.00</td>\n",
       "      <td>2107011.00</td>\n",
       "    </tr>\n",
       "    <tr>\n",
       "      <th>2015-06-01</th>\n",
       "      <td>12.66</td>\n",
       "      <td>13.24</td>\n",
       "      <td>13.23</td>\n",
       "      <td>12.66</td>\n",
       "      <td>1916058.50</td>\n",
       "      <td>0.62</td>\n",
       "      <td>4.92</td>\n",
       "      <td>13.230</td>\n",
       "      <td>13.230</td>\n",
       "      <td>13.230</td>\n",
       "      <td>1916058.50</td>\n",
       "      <td>1916058.50</td>\n",
       "      <td>1916058.50</td>\n",
       "    </tr>\n",
       "  </tbody>\n",
       "</table>\n",
       "<p>732 rows × 13 columns</p>\n",
       "</div>"
      ],
      "text/plain": [
       "             open   high  close    low      volume  price_change  p_change  \\\n",
       "date                                                                         \n",
       "2018-05-30   7.74   7.75   7.67   7.57   315412.97         -0.17     -2.17   \n",
       "2018-05-29   7.95   7.95   7.85   7.79   230070.88         -0.10     -1.26   \n",
       "2018-05-28   7.90   7.99   7.94   7.89   164015.98         -0.02     -0.25   \n",
       "2018-05-25   7.96   8.01   7.96   7.93   129703.42         -0.01     -0.12   \n",
       "2018-05-24   8.00   8.00   7.97   7.94   163775.20         -0.03     -0.38   \n",
       "2018-05-23   8.09   8.12   8.00   7.99   241397.27         -0.13     -1.60   \n",
       "2018-05-22   8.15   8.15   8.13   8.08   168294.81         -0.03     -0.37   \n",
       "2018-05-21   8.19   8.24   8.16   8.13   315956.47          0.05      0.62   \n",
       "2018-05-18   8.01   8.12   8.12   7.98   299417.38          0.10      1.25   \n",
       "2018-05-17   8.00   8.07   8.02   7.98   196496.05          0.02      0.25   \n",
       "2018-05-16   8.03   8.08   8.00   7.97   295802.16         -0.06     -0.74   \n",
       "2018-05-15   8.00   8.07   8.06   7.95   244210.52          0.11      1.38   \n",
       "2018-05-14   8.01   8.03   7.96   7.93   245453.38         -0.06     -0.75   \n",
       "2018-05-11   8.11   8.12   8.02   8.01   224688.81         -0.08     -0.99   \n",
       "2018-05-10   8.00   8.10   8.10   7.95   270513.00          0.13      1.63   \n",
       "2018-05-09   8.04   8.05   7.97   7.95   287052.53         -0.08     -0.99   \n",
       "2018-05-08   8.02   8.09   8.05   8.01   295188.12          0.03      0.37   \n",
       "2018-05-07   7.97   8.06   8.02   7.90   373519.47          0.08      1.01   \n",
       "2018-05-04   8.01   8.04   7.93   7.92   238998.81         -0.09     -1.12   \n",
       "2018-05-03   7.91   8.04   8.02   7.87   313450.25          0.04      0.50   \n",
       "2018-05-02   8.22   8.23   7.97   7.91   540066.75         -0.28     -3.39   \n",
       "2018-04-27   8.21   8.29   8.25   8.14   226009.52          0.07      0.86   \n",
       "2018-04-26   8.36   8.38   8.19   8.15   256295.98         -0.16     -1.92   \n",
       "2018-04-25   8.37   8.45   8.36   8.33   228571.72         -0.07     -0.83   \n",
       "2018-04-24   8.14   8.44   8.44   8.14   411113.25          0.30      3.69   \n",
       "2018-04-23   8.07   8.22   8.14   8.06   279641.09          0.11      1.37   \n",
       "2018-04-20   8.30   8.30   8.04   8.02   306641.38         -0.27     -3.25   \n",
       "2018-04-19   8.29   8.42   8.30   8.28   267707.19         -0.04     -0.48   \n",
       "2018-04-18   8.31   8.36   8.34   8.09   376316.88          0.08      0.97   \n",
       "2018-04-17   8.38   8.42   8.25   8.24   275327.97         -0.11     -1.32   \n",
       "...           ...    ...    ...    ...         ...           ...       ...   \n",
       "2015-07-13   9.19   9.87   9.87   9.18  3132471.00          0.90     10.03   \n",
       "2015-07-10   8.30   8.97   8.97   8.25  2282375.00          0.82     10.06   \n",
       "2015-07-09   6.85   8.15   8.15   6.85  2509416.75          0.74      9.99   \n",
       "2015-07-08   7.41   7.75   7.41   7.41  1706489.25         -0.82     -9.96   \n",
       "2015-07-07   8.92   9.07   8.22   8.22  2569433.00         -0.91     -9.97   \n",
       "2015-07-06   9.86   9.86   9.12   8.50  2037277.00          0.15      1.67   \n",
       "2015-07-03   9.80  10.11   8.97   8.97  1772184.62         -1.00    -10.03   \n",
       "2015-07-02  10.98  11.08   9.97   9.80  1622367.50         -0.70     -6.56   \n",
       "2015-07-01  11.60  12.00  10.66  10.61  1724476.25         -1.03     -8.81   \n",
       "2015-06-30  10.88  11.70  11.69   9.80  2061206.00          0.85      7.84   \n",
       "2015-06-29  12.26  12.26  10.84  10.49  1967488.88         -0.81     -6.95   \n",
       "2015-06-26  12.40  12.75  11.65  11.65  1643706.12         -1.29     -9.97   \n",
       "2015-06-25  12.73  13.48  13.08  12.61  2358553.00          0.39      3.07   \n",
       "2015-06-24  12.22  12.84  12.70  12.22  1532547.38          0.51      4.18   \n",
       "2015-06-23  11.88  12.20  12.19  10.80  1356420.12          0.30      2.52   \n",
       "2015-06-19  12.80  13.05  11.88  11.83  1273808.25         -1.25     -9.52   \n",
       "2015-06-18  13.14  13.54  13.13  12.95  1520164.00         -0.03     -0.23   \n",
       "2015-06-17  12.76  13.24  13.16  12.38  1453400.75          0.34      2.65   \n",
       "2015-06-16  13.45  13.45  12.83  12.61  1749060.50         -0.70     -5.17   \n",
       "2015-06-15  14.06  14.06  13.53  13.50  2139472.25         -0.53     -3.77   \n",
       "2015-06-12  13.92  14.20  14.06  13.76  2406305.75          0.16      1.15   \n",
       "2015-06-11  14.07  14.07  13.90  13.60  2192590.75         -0.23     -1.63   \n",
       "2015-06-10  14.51  14.86  14.13  14.09  4167244.50          0.27      1.95   \n",
       "2015-06-09  14.33  14.35  13.86  13.66  3049859.75         -0.57     -3.95   \n",
       "2015-06-08  13.70  14.75  14.43  13.52  4791615.00          0.90      6.65   \n",
       "2015-06-05  13.25  13.57  13.53  13.10  2602236.00          0.43      3.28   \n",
       "2015-06-04  13.25  13.26  13.10  12.10  1803872.12         -0.20     -1.50   \n",
       "2015-06-03  13.66  13.71  13.30  13.10  2079313.00         -0.27     -1.99   \n",
       "2015-06-02  13.26  13.76  13.57  13.04  2297963.50          0.34      2.57   \n",
       "2015-06-01  12.66  13.24  13.23  12.66  1916058.50          0.62      4.92   \n",
       "\n",
       "               ma5    ma10    ma20       v_ma5      v_ma10      v_ma20  \n",
       "date                                                                    \n",
       "2018-05-30   7.878   7.982   7.998   200595.69   222454.04   250670.87  \n",
       "2018-05-29   7.944   8.015   8.013   185792.55   220492.96   261903.56  \n",
       "2018-05-28   8.000   8.036   8.033   173437.34   221906.93   261700.50  \n",
       "2018-05-25   8.044   8.038   8.045   203825.43   230050.67   266314.50  \n",
       "2018-05-24   8.076   8.044   8.065   237768.23   239549.21   271257.91  \n",
       "2018-05-23   8.086   8.057   8.089   244312.40   250222.99   283624.81  \n",
       "2018-05-22   8.086   8.054   8.096   255193.37   254788.51   285537.00  \n",
       "2018-05-21   8.072   8.046   8.091   270376.52   267477.84   292454.33  \n",
       "2018-05-18   8.032   8.032   8.098   256275.90   273234.14   290041.87  \n",
       "2018-05-17   8.012   8.013   8.109   241330.18   267192.29   293886.84  \n",
       "2018-05-16   8.028   8.013   8.121   256133.57   278887.71   297828.44  \n",
       "2018-05-15   8.022   8.010   8.139   254383.65   303314.16   298656.49  \n",
       "2018-05-14   8.020   8.029   8.162   264579.17   301494.06   297090.65  \n",
       "2018-05-11   8.032   8.052   8.190   290192.39   302578.32   298059.62  \n",
       "2018-05-10   8.014   8.086   8.220   293054.39   302966.62   309354.48  \n",
       "2018-05-09   7.998   8.120   8.251   301641.84   317026.64   318280.97  \n",
       "2018-05-08   7.998   8.137   8.274   352244.68   316285.50   320527.44  \n",
       "2018-05-07   8.038   8.136   8.295   338408.96   317430.82   320402.99  \n",
       "2018-05-04   8.072   8.164   8.322   314964.26   306849.59   320022.98  \n",
       "2018-05-03   8.158   8.205   8.363   312878.84   320581.40   325176.98  \n",
       "2018-05-02   8.242   8.228   8.400   332411.44   316769.17   334582.19  \n",
       "2018-04-27   8.276   8.267   8.435   280326.31   293998.81   329282.03  \n",
       "2018-04-26   8.234   8.294   8.444   296452.68   292687.24   331679.17  \n",
       "2018-04-25   8.256   8.328   8.463   298734.93   293540.92   337133.16  \n",
       "2018-04-24   8.252   8.354   8.470   328283.96   315742.34   346827.34  \n",
       "2018-04-23   8.214   8.381   8.468   301126.90   319535.30   351516.69  \n",
       "2018-04-20   8.258   8.411   8.499   307671.31   324769.38   352720.41  \n",
       "2018-04-19   8.354   8.453   8.539   288921.80   323375.15   354097.71  \n",
       "2018-04-18   8.400   8.479   8.568   288346.90   333196.37   357417.78  \n",
       "2018-04-17   8.456   8.520   8.601   303200.73   329772.56   355189.56  \n",
       "...            ...     ...     ...         ...         ...         ...  \n",
       "2015-07-13   8.524   9.303  10.901  2440037.00  2141769.64  1920615.88  \n",
       "2015-07-10   8.374   9.400  11.111  2220998.20  2025271.43  1884307.62  \n",
       "2015-07-09   8.374   9.668  11.357  2118960.12  1961404.54  1879818.41  \n",
       "2015-07-08   8.738  10.161  11.656  1941550.27  1946318.16  1962709.79  \n",
       "2015-07-07   9.388  10.690  11.979  1945147.67  1928923.98  2029878.32  \n",
       "2015-07-06  10.082  11.087  12.289  1843502.27  1807622.69  2140987.42  \n",
       "2015-07-03  10.426  11.363  12.510  1829544.65  1731275.81  2169235.37  \n",
       "2015-07-02  10.962  11.779  12.716  1803848.95  1706073.75  2170819.74  \n",
       "2015-07-01  11.584  12.098  12.883  1951086.05  1689177.08  2193667.02  \n",
       "2015-06-30  11.992  12.315  13.028  1912700.28  1691635.50  2222341.38  \n",
       "2015-06-29  12.092  12.499  13.105  1771743.10  1699462.13  2215084.01  \n",
       "2015-06-26  12.300  12.821  13.224  1633006.97  1743343.81  2228115.33  \n",
       "2015-06-25  12.596  13.046  13.312  1608298.55  1798232.28  2260582.51  \n",
       "2015-06-24  12.612  13.151  13.325  1427268.10  1979101.43  2254819.54  \n",
       "2015-06-23  12.638  13.267  13.364  1470570.72  2130832.66  2299961.55  \n",
       "2015-06-19  12.906  13.491  13.443  1627181.15  2474352.15  2362864.31  \n",
       "2015-06-18  13.342  13.656  13.554  1853680.65  2607194.93  2440654.03  \n",
       "2015-06-17  13.496  13.653  13.587  1988166.00  2635565.74  2511460.95  \n",
       "2015-06-16  13.690  13.667  13.623  2530934.75  2698156.96  2599632.64  \n",
       "2015-06-15  13.896  13.741  13.695  2791094.60  2753047.26  2676957.37  \n",
       "2015-06-12  14.076  13.711  13.711  3321523.15  2730705.89  2730705.89  \n",
       "2015-06-11  13.970  13.672  13.672  3360709.20  2766750.35  2766750.35  \n",
       "2015-06-10  13.810  13.644  13.644  3282965.47  2838520.30  2838520.30  \n",
       "2015-06-09  13.644  13.574  13.574  2865379.17  2648702.55  2648702.55  \n",
       "2015-06-08  13.586  13.527  13.527  2714999.92  2581843.02  2581843.02  \n",
       "2015-06-05  13.346  13.346  13.346  2139888.62  2139888.62  2139888.62  \n",
       "2015-06-04  13.300  13.300  13.300  2024301.78  2024301.78  2024301.78  \n",
       "2015-06-03  13.367  13.367  13.367  2097778.33  2097778.33  2097778.33  \n",
       "2015-06-02  13.400  13.400  13.400  2107011.00  2107011.00  2107011.00  \n",
       "2015-06-01  13.230  13.230  13.230  1916058.50  1916058.50  1916058.50  \n",
       "\n",
       "[732 rows x 13 columns]"
      ]
     },
     "execution_count": 47,
     "metadata": {},
     "output_type": "execute_result"
    }
   ],
   "source": [
    "# tushare包\n",
    "import tushare as ts\n",
    "ts.get_hist_data('600068')"
   ]
  },
  {
   "cell_type": "code",
   "execution_count": 52,
   "metadata": {},
   "outputs": [],
   "source": [
    "import matplotlib.pyplot as plt\n",
    "import numpy as np"
   ]
  },
  {
   "cell_type": "code",
   "execution_count": 54,
   "metadata": {},
   "outputs": [],
   "source": [
    "x=np.linspace(1,4)"
   ]
  },
  {
   "cell_type": "code",
   "execution_count": 56,
   "metadata": {},
   "outputs": [
    {
     "name": "stderr",
     "output_type": "stream",
     "text": [
      "/Users/tangqihao/anaconda3/lib/python3.6/site-packages/matplotlib/font_manager.py:1316: UserWarning: findfont: Font family ['SimHei'] not found. Falling back to DejaVu Sans\n",
      "  (prop.get_family(), self.defaultFamily[fontext]))\n"
     ]
    },
    {
     "data": {
      "image/png": "[encoded data removed]",
      "text/plain": [
       "<matplotlib.figure.Figure at 0x11785ee10>"
      ]
     },
     "metadata": {},
     "output_type": "display_data"
    }
   ],
   "source": [
    "plt.plot(x,x**2)\n",
    "plt.show()"
   ]
  },
  {
   "cell_type": "code",
   "execution_count": 59,
   "metadata": {},
   "outputs": [
    {
     "name": "stderr",
     "output_type": "stream",
     "text": [
      "/Users/tangqihao/anaconda3/lib/python3.6/site-packages/matplotlib/font_manager.py:1316: UserWarning: findfont: Font family ['SimHei'] not found. Falling back to DejaVu Sans\n",
      "  (prop.get_family(), self.defaultFamily[fontext]))\n"
     ]
    },
    {
     "data": {
      "image/png": "[encoded data removed]",
      "text/plain": [
       "<matplotlib.figure.Figure at 0x11fef1cc0>"
      ]
     },
     "metadata": {},
     "output_type": "display_data"
    }
   ],
   "source": [
    "x=[np.random.randint(0,20)/100 for i in range(1000)]\n",
    "y=[np.random.randint(0,20)/100 for i in range(1000)]\n",
    "plt.scatter(x,y,marker='*')\n",
    "plt.scatter(y,x,marker='D')\n",
    "plt.show()"
   ]
  },
  {
   "cell_type": "code",
   "execution_count": 60,
   "metadata": {},
   "outputs": [
    {
     "name": "stderr",
     "output_type": "stream",
     "text": [
      "/Users/tangqihao/anaconda3/lib/python3.6/site-packages/matplotlib/font_manager.py:1316: UserWarning: findfont: Font family ['SimHei'] not found. Falling back to DejaVu Sans\n",
      "  (prop.get_family(), self.defaultFamily[fontext]))\n"
     ]
    },
    {
     "data": {
      "image/png": "[encoded data removed]",
      "text/plain": [
       "<matplotlib.figure.Figure at 0x117d03e48>"
      ]
     },
     "metadata": {},
     "output_type": "display_data"
    }
   ],
   "source": [
    "import matplotlib.pyplot as plt\n",
    "import numpy as np\n",
    "x = np.linspace(0,1)\n",
    "plt.plot(x,x,linestyle='-')\n",
    "plt.plot(x,x**2,linestyle='-.')\n",
    "plt.plot(x,x**0.5,linestyle='--')\n",
    "plt.show()"
   ]
  },
  {
   "cell_type": "code",
   "execution_count": 82,
   "metadata": {},
   "outputs": [
    {
     "name": "stderr",
     "output_type": "stream",
     "text": [
      "/Users/tangqihao/anaconda3/lib/python3.6/site-packages/matplotlib/font_manager.py:1316: UserWarning: findfont: Font family ['SimHei'] not found. Falling back to DejaVu Sans\n",
      "  (prop.get_family(), self.defaultFamily[fontext]))\n"
     ]
    },
    {
     "data": {
      "image/png": "[encoded data removed]",
      "text/plain": [
       "<matplotlib.figure.Figure at 0x1209e6be0>"
      ]
     },
     "metadata": {},
     "output_type": "display_data"
    }
   ],
   "source": [
    "x = np.linspace(0,1)\n",
    "plt.plot(x,x,linestyle='-',\n",
    "color='lime',label='lime')\n",
    "plt.plot(x,x**2,linestyle='-.',\n",
    "color='deeppink', label='deeppink')\n",
    "plt.plot(x,x**0.5,linestyle='--',\n",
    "color='darkcyan',label='darkcyan')\n",
    "plt.legend()\n",
    "plt.show()"
   ]
  },
  {
   "cell_type": "code",
   "execution_count": 83,
   "metadata": {},
   "outputs": [
    {
     "data": {
      "text/plain": [
       "<matplotlib.figure.Figure at 0x1209e6390>"
      ]
     },
     "metadata": {},
     "output_type": "display_data"
    }
   ],
   "source": [
    "fig1 = plt.figure('test')\n",
    "fig1.suptitle('test')\n",
    "plt.show()"
   ]
  },
  {
   "cell_type": "code",
   "execution_count": 84,
   "metadata": {},
   "outputs": [],
   "source": [
    "# fig1.add_axes([bottom,left,width,height])\n",
    "ax1 = fig1.add_axes([0.1,0.1,0.5,0.5])\n",
    "# ax2 = fig1.add_axes([0.2,0.2,0.5,0.5])\n",
    "# ax3 = fig1.add_axes([0.3,0.3,0.5,0.5])\n",
    "# ax4 = fig1.add_axes([0.4,0.4,0.5,0.5])\n",
    "axes = fig1.subplots(2,3)\n",
    "plt.show()"
   ]
  },
  {
   "cell_type": "code",
   "execution_count": 87,
   "metadata": {},
   "outputs": [
    {
     "name": "stderr",
     "output_type": "stream",
     "text": [
      "/Users/tangqihao/anaconda3/lib/python3.6/site-packages/matplotlib/font_manager.py:1316: UserWarning: findfont: Font family ['SimHei'] not found. Falling back to DejaVu Sans\n",
      "  (prop.get_family(), self.defaultFamily[fontext]))\n"
     ]
    },
    {
     "data": {
      "image/png": "[encoded data removed]",
      "text/plain": [
       "<matplotlib.figure.Figure at 0x120c5a7f0>"
      ]
     },
     "metadata": {},
     "output_type": "display_data"
    }
   ],
   "source": [
    "# 生成一个Figure\n",
    "fig = plt.figure('title')\n",
    "# figure.add_subplot(行数,列数,序号)\n",
    "ax = fig.add_subplot(1,1,1)\n",
    "ax.set(title='NJU')\n",
    "plt.show()"
   ]
  },
  {
   "cell_type": "code",
   "execution_count": 89,
   "metadata": {},
   "outputs": [
    {
     "name": "stderr",
     "output_type": "stream",
     "text": [
      "/Users/tangqihao/anaconda3/lib/python3.6/site-packages/matplotlib/cbook/deprecation.py:106: MatplotlibDeprecationWarning: Adding an axes using the same arguments as a previous axes currently reuses the earlier instance.  In a future version, a new instance will always be created and returned.  Meanwhile, this warning can be suppressed, and the future behavior ensured, by passing a unique label to each axes instance.\n",
      "  warnings.warn(message, mplDeprecation, stacklevel=1)\n",
      "/Users/tangqihao/anaconda3/lib/python3.6/site-packages/matplotlib/font_manager.py:1316: UserWarning: findfont: Font family ['SimHei'] not found. Falling back to DejaVu Sans\n",
      "  (prop.get_family(), self.defaultFamily[fontext]))\n"
     ]
    },
    {
     "data": {
      "image/png": "[encoded data removed]",
      "text/plain": [
       "<matplotlib.figure.Figure at 0x120ca4828>"
      ]
     },
     "metadata": {},
     "output_type": "display_data"
    }
   ],
   "source": [
    "fig = plt.figure('title')\n",
    "ax = fig.add_subplot(1,1,1)\n",
    "# 加标签\n",
    "ax.set(title='NJU')\n",
    "ax.set(ylabel='Python')\n",
    "ax.set(xlabel='2018Spring')\n",
    "plt.show()"
   ]
  },
  {
   "cell_type": "code",
   "execution_count": 90,
   "metadata": {},
   "outputs": [
    {
     "name": "stderr",
     "output_type": "stream",
     "text": [
      "/Users/tangqihao/anaconda3/lib/python3.6/site-packages/matplotlib/font_manager.py:1316: UserWarning: findfont: Font family ['SimHei'] not found. Falling back to DejaVu Sans\n",
      "  (prop.get_family(), self.defaultFamily[fontext]))\n"
     ]
    },
    {
     "data": {
      "image/png": "[encoded data removed]",
      "text/plain": [
       "<matplotlib.figure.Figure at 0x120e2c358>"
      ]
     },
     "metadata": {},
     "output_type": "display_data"
    }
   ],
   "source": [
    "fig = plt.figure('title')\n",
    "ax = fig.add_subplot(1,1,1)\n",
    "ax.set(title='NJU')\n",
    "ax.set(ylabel='Python')\n",
    "ax.set(xlabel='2018Spring')\n",
    "# 再挑整轴的范围\n",
    "ax.set_xlim(0,2)\n",
    "ax.set_ylim(0,2)\n",
    "plt.show()"
   ]
  },
  {
   "cell_type": "code",
   "execution_count": 96,
   "metadata": {},
   "outputs": [
    {
     "name": "stderr",
     "output_type": "stream",
     "text": [
      "/Users/tangqihao/anaconda3/lib/python3.6/site-packages/matplotlib/font_manager.py:1316: UserWarning: findfont: Font family ['SimHei'] not found. Falling back to DejaVu Sans\n",
      "  (prop.get_family(), self.defaultFamily[fontext]))\n"
     ]
    },
    {
     "data": {
      "image/png": "[encoded data removed]",
      "text/plain": [
       "<matplotlib.figure.Figure at 0x120fca908>"
      ]
     },
     "metadata": {},
     "output_type": "display_data"
    }
   ],
   "source": [
    "fig = plt.figure('title')\n",
    "ax = fig.add_subplot(1,1,1)\n",
    "ax.set(title='NJU')\n",
    "ax.set(ylabel='Python')\n",
    "ax.set(xlabel='2018Spring')\n",
    "ax.set_xlim(0,2)\n",
    "ax.set_ylim(0,2)\n",
    "# 只取0.5到1.5段\n",
    "ax.set_xticks([0.5,1.5]) \n",
    "# 把0.5的改为标签123，把1.5的改为标签456\n",
    "ax.set_xticklabels(['123','456']) \n",
    "plt.show()"
   ]
  },
  {
   "cell_type": "code",
   "execution_count": 98,
   "metadata": {},
   "outputs": [
    {
     "name": "stderr",
     "output_type": "stream",
     "text": [
      "/Users/tangqihao/anaconda3/lib/python3.6/site-packages/matplotlib/cbook/deprecation.py:106: MatplotlibDeprecationWarning: Adding an axes using the same arguments as a previous axes currently reuses the earlier instance.  In a future version, a new instance will always be created and returned.  Meanwhile, this warning can be suppressed, and the future behavior ensured, by passing a unique label to each axes instance.\n",
      "  warnings.warn(message, mplDeprecation, stacklevel=1)\n",
      "/Users/tangqihao/anaconda3/lib/python3.6/site-packages/matplotlib/font_manager.py:1316: UserWarning: findfont: Font family ['SimHei'] not found. Falling back to DejaVu Sans\n",
      "  (prop.get_family(), self.defaultFamily[fontext]))\n"
     ]
    },
    {
     "data": {
      "image/png": "[encoded data removed]",
      "text/plain": [
       "<matplotlib.figure.Figure at 0x121130518>"
      ]
     },
     "metadata": {},
     "output_type": "display_data"
    }
   ],
   "source": [
    "fig=plt.figure('test')\n",
    "ax=fig.add_subplot(1,1,1)\n",
    "ax.spines['left'].set_position(('data',0))\n",
    "ax.spines['bottom'].set_position(('data',0))\n",
    "ax.spines['right'].set_color('none')\n",
    "ax.spines['top'].set_color('none')\n",
    "x = np.arange(-np.pi,np.pi,0.01)\n",
    "y = np.sin(x)\n",
    "ax.plot(x,y,linestyle='--')\n",
    "ax.grid()\n",
    "plt.show()"
   ]
  },
  {
   "cell_type": "code",
   "execution_count": 101,
   "metadata": {},
   "outputs": [
    {
     "name": "stderr",
     "output_type": "stream",
     "text": [
      "/Users/tangqihao/anaconda3/lib/python3.6/site-packages/matplotlib/font_manager.py:1316: UserWarning: findfont: Font family ['SimHei'] not found. Falling back to DejaVu Sans\n",
      "  (prop.get_family(), self.defaultFamily[fontext]))\n"
     ]
    },
    {
     "data": {
      "image/png": "[encoded data removed]",
      "text/plain": [
       "<matplotlib.figure.Figure at 0x120d53400>"
      ]
     },
     "metadata": {},
     "output_type": "display_data"
    },
    {
     "data": {
      "image/png": "[encoded data removed]",
      "text/plain": [
       "<matplotlib.figure.Figure at 0x1212ce240>"
      ]
     },
     "metadata": {},
     "output_type": "display_data"
    }
   ],
   "source": [
    "fig = plt.figure()\n",
    "ax = fig.add_subplot(1,1,1)\n",
    "ax.plot(x,y,linestyle='--',label='$sin(x)$')\n",
    "xaxis = ax.xaxis\n",
    "xaxis.set_ticks([-np.pi,-np.pi/2,0,np.pi/2,np.pi])\n",
    "xaxis.set_ticklabels([r'$-\\pi$',r'$-\\frac{\\pi}{2}$','0',r'$\\frac{\\pi}{2}$',r'$-\\pi$'])\n",
    "yaxis = ax.yaxis\n",
    "xaxis.grid(True)\n",
    "yaxis.grid(True)\n",
    "ax.legend()\n",
    "plt.show()"
   ]
  },
  {
   "cell_type": "code",
   "execution_count": 102,
   "metadata": {},
   "outputs": [
    {
     "name": "stderr",
     "output_type": "stream",
     "text": [
      "/Users/tangqihao/anaconda3/lib/python3.6/site-packages/matplotlib/font_manager.py:1316: UserWarning: findfont: Font family ['SimHei'] not found. Falling back to DejaVu Sans\n",
      "  (prop.get_family(), self.defaultFamily[fontext]))\n"
     ]
    },
    {
     "data": {
      "image/png": "[encoded data removed]",
      "text/plain": [
       "<matplotlib.figure.Figure at 0x121093cf8>"
      ]
     },
     "metadata": {},
     "output_type": "display_data"
    }
   ],
   "source": [
    "fig = plt.figure()\n",
    "ax = fig.add_subplot(1,1,1)\n",
    "left = [0.5,1.5,2.5,3.5,4.5]\n",
    "data = [10,20,5,15,25]\n",
    "ax.bar(left,data,width=0.6)\n",
    "xaxis = ax.xaxis\n",
    "xaxis.set_ticks([0.5,1.5,2.5,3.5,4.5])\n",
    "xaxis.set_ticklabels(['<20','20-30','30-40','40-50','>50'],rotation=30)\n",
    "plt.show()"
   ]
  },
  {
   "cell_type": "code",
   "execution_count": 104,
   "metadata": {},
   "outputs": [
    {
     "name": "stderr",
     "output_type": "stream",
     "text": [
      "/Users/tangqihao/anaconda3/lib/python3.6/site-packages/matplotlib/font_manager.py:1316: UserWarning: findfont: Font family ['SimHei'] not found. Falling back to DejaVu Sans\n",
      "  (prop.get_family(), self.defaultFamily[fontext]))\n"
     ]
    },
    {
     "data": {
      "image/png": "[encoded data removed]",
      "text/plain": [
       "<matplotlib.figure.Figure at 0x12112a4a8>"
      ]
     },
     "metadata": {},
     "output_type": "display_data"
    }
   ],
   "source": [
    "fig = plt.figure()\n",
    "ax = fig.add_subplot(1,1,1)\n",
    "x = np.arange(0,40,0.5)\n",
    "y = np.sin(x)*np.exp(-0.1*x)\n",
    "z = np.exp(-0.1*x)\n",
    "ax.plot(x,y,linestyle='--')\n",
    "ax.plot(x,z,linestyle='--')\n",
    "xaxis = ax.xaxis; yaxis = ax.yaxis\n",
    "xaxis.set_ticks([0,10,20,30,40])\n",
    "xaxis.set_ticks([5,15,25,35],minor=True)\n",
    "xaxis.grid(linestyle='--',which='major')\n",
    "yaxis.grid(linestyle='--')\n",
    "ax.set_xlim(0,40)\n",
    "plt.show()"
   ]
  },
  {
   "cell_type": "code",
   "execution_count": 106,
   "metadata": {},
   "outputs": [
    {
     "name": "stderr",
     "output_type": "stream",
     "text": [
      "/Users/tangqihao/anaconda3/lib/python3.6/site-packages/matplotlib/font_manager.py:1316: UserWarning: findfont: Font family ['SimHei'] not found. Falling back to DejaVu Sans\n",
      "  (prop.get_family(), self.defaultFamily[fontext]))\n"
     ]
    },
    {
     "data": {
      "image/png": "[encoded data removed]",
      "text/plain": [
       "<matplotlib.figure.Figure at 0x120bbf2e8>"
      ]
     },
     "metadata": {},
     "output_type": "display_data"
    }
   ],
   "source": [
    "N=50\n",
    "x = np.random.rand(N)\n",
    "y = np.random.rand(N)\n",
    "colors = np.random.rand(N)\n",
    "area = np.pi * (15 * np.random.rand(N))**2\n",
    "plt.scatter(x,y,s=area,c=colors,alpha=0.8) #alpha为透明度！\n",
    "plt.colorbar()\n",
    "plt.show()"
   ]
  },
  {
   "cell_type": "code",
   "execution_count": 110,
   "metadata": {},
   "outputs": [
    {
     "name": "stderr",
     "output_type": "stream",
     "text": [
      "/Users/tangqihao/anaconda3/lib/python3.6/site-packages/matplotlib/font_manager.py:1316: UserWarning: findfont: Font family ['SimHei'] not found. Falling back to DejaVu Sans\n",
      "  (prop.get_family(), self.defaultFamily[fontext]))\n"
     ]
    },
    {
     "data": {
      "image/png": "[encoded data removed]",
      "text/plain": [
       "<matplotlib.figure.Figure at 0x120974320>"
      ]
     },
     "metadata": {},
     "output_type": "display_data"
    }
   ],
   "source": [
    "N=50\n",
    "x = np.random.rand(N)\n",
    "y = np.random.rand(N)\n",
    "colors = np.random.rand(N)\n",
    "area = np.pi * (15 * np.random.rand(N))**2\n",
    "plt.scatter(x,y,s=area,c=colors,cmap='rainbow',alpha=0.5) #alpha为透明度！ #cmap设置为彩虹！rainbow\n",
    "plt.colorbar()\n",
    "plt.show()"
   ]
  },
  {
   "cell_type": "code",
   "execution_count": null,
   "metadata": {},
   "outputs": [],
   "source": []
  }
 ],
 "metadata": {
  "kernelspec": {
   "display_name": "Python 3",
   "language": "python",
   "name": "python3"
  },
  "language_info": {
   "codemirror_mode": {
    "name": "ipython",
    "version": 3
   },
   "file_extension": ".py",
   "mimetype": "text/x-python",
   "name": "python",
   "nbconvert_exporter": "python",
   "pygments_lexer": "ipython3",
   "version": "3.6.3"
  }
 },
 "nbformat": 4,
 "nbformat_minor": 2
}
